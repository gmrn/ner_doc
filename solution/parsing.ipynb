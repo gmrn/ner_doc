{
 "cells": [
  {
   "attachments": {},
   "cell_type": "markdown",
   "metadata": {},
   "source": [
    "#### **Парсинг: подготовка данных для модели**\n",
    "\n",
    "Весь парсер сделан на [yargy](https://github.com/natasha/yargy), подсветка реализована с помощью [ipymarkup](https://github.com/natasha/ipymarkup).\n",
    "Все инструменты из open source проекта `natasha`  "
   ]
  },
  {
   "cell_type": "code",
   "execution_count": 1,
   "metadata": {},
   "outputs": [],
   "source": [
    "import dataframe as df\n",
    "import parser as ps\n",
    "\n",
    "path = 'data/train.json'"
   ]
  },
  {
   "cell_type": "code",
   "execution_count": 2,
   "metadata": {},
   "outputs": [
    {
     "data": {
      "text/html": [
       "<div>\n",
       "<style scoped>\n",
       "    .dataframe tbody tr th:only-of-type {\n",
       "        vertical-align: middle;\n",
       "    }\n",
       "\n",
       "    .dataframe tbody tr th {\n",
       "        vertical-align: top;\n",
       "    }\n",
       "\n",
       "    .dataframe thead th {\n",
       "        text-align: right;\n",
       "    }\n",
       "</style>\n",
       "<table border=\"1\" class=\"dataframe\">\n",
       "  <thead>\n",
       "    <tr style=\"text-align: right;\">\n",
       "      <th></th>\n",
       "      <th>text</th>\n",
       "      <th>label</th>\n",
       "      <th>start</th>\n",
       "      <th>stop</th>\n",
       "      <th>search</th>\n",
       "    </tr>\n",
       "    <tr>\n",
       "      <th>id</th>\n",
       "      <th></th>\n",
       "      <th></th>\n",
       "      <th></th>\n",
       "      <th></th>\n",
       "      <th></th>\n",
       "    </tr>\n",
       "  </thead>\n",
       "  <tbody>\n",
       "    <tr>\n",
       "      <th>809436509</th>\n",
       "      <td>Извещение о проведении открытого конкурса в эл...</td>\n",
       "      <td>обеспечение исполнения контракта</td>\n",
       "      <td>1279</td>\n",
       "      <td>1343</td>\n",
       "      <td>Размер обеспечения исполнения контракта 6593.2...</td>\n",
       "    </tr>\n",
       "    <tr>\n",
       "      <th>854885310</th>\n",
       "      <td>ТРЕБОВАНИЯ К СОДЕРЖАНИЮ ЗАЯВКИ участника запро...</td>\n",
       "      <td>обеспечение исполнения контракта</td>\n",
       "      <td>1222</td>\n",
       "      <td>1318</td>\n",
       "      <td>Поставщик должен предоставить обеспечение испо...</td>\n",
       "    </tr>\n",
       "    <tr>\n",
       "      <th>4382157</th>\n",
       "      <td>Извещение о проведении электронного аукциона д...</td>\n",
       "      <td>обеспечение исполнения контракта</td>\n",
       "      <td>1297</td>\n",
       "      <td>1343</td>\n",
       "      <td>Размер обеспечения исполнения контракта 10.00%</td>\n",
       "    </tr>\n",
       "    <tr>\n",
       "      <th>184555082</th>\n",
       "      <td>Извещение о проведении электронного аукциона д...</td>\n",
       "      <td>обеспечение исполнения контракта</td>\n",
       "      <td>1304</td>\n",
       "      <td>1350</td>\n",
       "      <td>Размер обеспечения исполнения контракта 10.00%</td>\n",
       "    </tr>\n",
       "    <tr>\n",
       "      <th>211645258</th>\n",
       "      <td>Извещение о проведении электронного аукциона д...</td>\n",
       "      <td>обеспечение исполнения контракта</td>\n",
       "      <td>1302</td>\n",
       "      <td>1348</td>\n",
       "      <td>Размер обеспечения исполнения контракта 10.00%</td>\n",
       "    </tr>\n",
       "  </tbody>\n",
       "</table>\n",
       "</div>"
      ],
      "text/plain": [
       "                                                        text  \\\n",
       "id                                                             \n",
       "809436509  Извещение о проведении открытого конкурса в эл...   \n",
       "854885310  ТРЕБОВАНИЯ К СОДЕРЖАНИЮ ЗАЯВКИ участника запро...   \n",
       "4382157    Извещение о проведении электронного аукциона д...   \n",
       "184555082  Извещение о проведении электронного аукциона д...   \n",
       "211645258  Извещение о проведении электронного аукциона д...   \n",
       "\n",
       "                                      label  start  stop  \\\n",
       "id                                                         \n",
       "809436509  обеспечение исполнения контракта   1279  1343   \n",
       "854885310  обеспечение исполнения контракта   1222  1318   \n",
       "4382157    обеспечение исполнения контракта   1297  1343   \n",
       "184555082  обеспечение исполнения контракта   1304  1350   \n",
       "211645258  обеспечение исполнения контракта   1302  1348   \n",
       "\n",
       "                                                      search  \n",
       "id                                                            \n",
       "809436509  Размер обеспечения исполнения контракта 6593.2...  \n",
       "854885310  Поставщик должен предоставить обеспечение испо...  \n",
       "4382157       Размер обеспечения исполнения контракта 10.00%  \n",
       "184555082     Размер обеспечения исполнения контракта 10.00%  \n",
       "211645258     Размер обеспечения исполнения контракта 10.00%  "
      ]
     },
     "execution_count": 2,
     "metadata": {},
     "output_type": "execute_result"
    }
   ],
   "source": [
    "data = df.reads_json(path) \n",
    "data.head()"
   ]
  },
  {
   "attachments": {},
   "cell_type": "markdown",
   "metadata": {},
   "source": [
    "##### **false negative/positive errors**"
   ]
  },
  {
   "attachments": {},
   "cell_type": "markdown",
   "metadata": {},
   "source": [
    "Определяем записи по `extracted_part` с ответами и без"
   ]
  },
  {
   "cell_type": "code",
   "execution_count": 11,
   "metadata": {},
   "outputs": [],
   "source": [
    "len = data['stop'] - data['start']\n",
    "\n",
    "answ_on = data[len != 0].index\n",
    "answ_off = data[len == 0].index"
   ]
  },
  {
   "attachments": {},
   "cell_type": "markdown",
   "metadata": {},
   "source": [
    "Определяем ошибки 1 и 2 рода, где парсер нашел пункт, хотя ответа нет и где не нашел, но ответ есть\n",
    "\n",
    "В идеале оба массива ошибок должны быть пустыми, но в приоритете избавиться от ошибок типа *false negative* (II), так как мы сразу отбросим эти записи и больше не сможем с ними работать\n",
    "\n",
    "Ошибки типа *false positive* (I) могут отсеяться на следующих этапах парсинга"
   ]
  },
  {
   "cell_type": "code",
   "execution_count": 5,
   "metadata": {},
   "outputs": [],
   "source": [
    "label_off = []   #   search all labeloff docs\n",
    "\n",
    "for i, _ in data.iterrows():    \n",
    "    marks = ps.get_marks(\n",
    "        _['text'], _['label'])\n",
    "    if not marks:\n",
    "        label_off.append(i)       \n",
    "\n",
    "label_on = [x for x in data.index if x not in label_off]          "
   ]
  },
  {
   "cell_type": "code",
   "execution_count": 6,
   "metadata": {},
   "outputs": [
    {
     "name": "stdout",
     "output_type": "stream",
     "text": [
      "[476192036, 588528614, 833988154, 219363951, 471097685, 14015810] []\n"
     ]
    }
   ],
   "source": [
    "errorsI = [x for x in label_on if x in answ_off]\n",
    "errorsII = [x for x in label_off if x in answ_on] \n",
    "\n",
    "\n",
    "print(errorsI, errorsII)"
   ]
  },
  {
   "attachments": {},
   "cell_type": "markdown",
   "metadata": {},
   "source": [
    "Корректируем правила для парсера:    [parser/rules/label.py](parser/rules/label.py)\n",
    "\n",
    "```c\n",
    "CONTRACT = rule(\n",
    "    or_(\n",
    "        normalized('обеспечение'),\n",
    "        normalized('исполнение'),\n",
    "    ).repeatable(),\n",
    "    normalized('настоящий').optional(),\n",
    "    or_(\n",
    "        normalized('контракт'),\n",
    "        normalized('договор'),\n",
    "    )\n",
    ")\n",
    "```"
   ]
  },
  {
   "cell_type": "code",
   "execution_count": 13,
   "metadata": {},
   "outputs": [],
   "source": [
    "#      >>>execute 4th, 5th code cells"
   ]
  },
  {
   "cell_type": "code",
   "execution_count": 7,
   "metadata": {},
   "outputs": [
    {
     "data": {
      "text/plain": [
       "(1498, 5)"
      ]
     },
     "execution_count": 7,
     "metadata": {},
     "output_type": "execute_result"
    }
   ],
   "source": [
    "data = data.loc[label_on]\n",
    "data.shape"
   ]
  },
  {
   "attachments": {},
   "cell_type": "markdown",
   "metadata": {},
   "source": [
    "##### **NER: поиск дополнительных сущностей**"
   ]
  },
  {
   "cell_type": "code",
   "execution_count": 3,
   "metadata": {},
   "outputs": [],
   "source": [
    "import dataframe as df\n",
    "import parser as ps\n",
    "\n",
    "path = 'data/train.json'\n",
    "\n",
    "data = df.reads_json(path) \n",
    "\n",
    "label_off = [21387522, 988512459, 576814118, 33321982, 870221477, 841199412, 659636986, 530135745, 103381269, 774423675, 767518830, 84333860, 842259306, 568278777, 398016768, 247509154, 186227613, 742758410, 41858643, 279678657, 641564028, 899079794, 883593150, 566870066, 218092753, 633942681, 348860902, 504104789, 310575279, 416901600, 480448230, 379814163, 722054566, 321458781, 898595603, 464383825, 195226664, 780443903, 589056981, 410875162, 374366795, 247159152, 89682092, 657384927, 425520652, 159399266, 482313075, 894571448, 67082098, 254389104, 902797643, 123213155, 793891511, 988693551, 490969848, 574894248, 58876711, 481449707, 931962258, 394540200, 462277146, 384224571, 695164638, 908753490, 977032556, 323658138, 933595516, 383798572, 586645301, 30076414, 966458400, 816725356, 163655004, 359802858, 689018053, 877239444, 175884542, 487971169, 895055033, 701794530, 314181537, 457049634, 301667980, 102249797, 390988811, 203664165, 214648417, 150243287, 85524565, 633704262, 327661343, 884320964, 175966212, 325780003, 252638411, 95089965, 499694856, 491030460, 705282233, 978164618, 908780351, 777830838, 62494133, 184429686, 960701326, 328251163, 376171914, 287889263, 758238915, 800036488, 808739861, 589396852, 821740539, 683436950, 889631488, 449432350, 421175213, 750578324, 853848068, 558092963, 503906217, 640524438, 573061698, 521050542, 94961499, 860644451, 154786355, 59733154, 445125138, 74345292, 191213064, 353223249, 558319334, 568949681, 710378801, 897474405, 228483166, 521227314, 937713785, 576330245, 383357205, 954175818, 168223198, 648724951, 472239980, 744167309, 856330320, 604894431, 61237725, 825877886, 814561214, 114758421, 885471240, 753877092, 728877463, 564086098, 556024184, 880506700, 689412582, 423787183, 484115071, 747317433, 189772990, 155043411, 262719817, 784758104, 693419707, 484398444, 259008463, 975974006, 688576534, 27864617, 966996823, 338987269, 598266674, 561237319, 227123674, 370408517, 158397066, 546365142, 580361221, 496636639, 503051655, 705839048, 201509913, 928033358, 37186938, 427883942, 892721516, 843472863, 314228254, 654942446, 79764055, 266572819, 696588941, 485503185, 841385708, 240757843, 971288916, 496154367, 926782072, 918234141, 30093679, 56336706, 866396752, 100721352, 695326447, 259352116, 541345914, 533170647, 830754475, 297024744, 465552654, 700398177, 53349068, 163876804, 762481292, 785021421, 888990974, 719126687, 32394515, 592144870, 303984403, 706280324, 415524602, 932088635, 236293110, 944535517, 880802714, 605248511, 528966580, 961697129, 615066621, 686005102, 477741501, 682728869, 799538669, 263036851, 303693485, 720376558, 909772075, 673444485, 677793788, 911698012, 871916176, 660980540, 800859874, 360944883, 416279128, 917231113, 387377068, 998879542, 555083461, 685751564, 291713866, 281148396, 265383438, 848887402, 968130729, 711430708, 920883070, 312286816, 110092843, 958537814, 340078714, 540120178, 643589590, 940359335, 855412825, 903923266, 765979602, 945573559, 460300374, 571309346, 160915063, 125157783, 14785464, 256399317, 408331151, 673034280, 576628577, 977930644, 250923192, 613094776, 828659340, 390815281, 300790544, 289894159, 522101245, 627854560, 588286734, 800430498, 285239088, 686209257, 360349411, 396622857, 58251022, 214609521, 94811748, 903507299, 926039184]\n",
    "\n",
    "label_on = [x for x in data.index if x not in label_off]   \n",
    "data = data.loc[label_on]"
   ]
  },
  {
   "cell_type": "code",
   "execution_count": 4,
   "metadata": {},
   "outputs": [
    {
     "data": {
      "text/html": [
       "<div class=\"tex2jax_ignore\" style=\"white-space: pre-wrap\"><span style=\"padding: 2px; border-radius: 4px; border: 1px solid #bbdefb; background: #e3f2fd\">Обеспечение исполнения контракта<span style=\"vertical-align: middle; margin-left: 2px; font-size: 0.7em; color: #64b5f6;\">1</span></span> Требуется <span style=\"padding: 2px; border-radius: 4px; border: 1px solid #bbdefb; background: #e3f2fd\">обеспечение исполнения контракта<span style=\"vertical-align: middle; margin-left: 2px; font-size: 0.7em; color: #64b5f6;\">1</span></span> <span style=\"padding: 2px; border-radius: 4px; border: 1px solid #c8e6c9; background: #e8f5e9\">Размер<span style=\"vertical-align: middle; margin-left: 2px; font-size: 0.7em; color: #66bb6a;\">A</span></span> <span style=\"padding: 2px; border-radius: 4px; border: 1px solid #bbdefb; background: #e3f2fd\">обеспечения исполнения контракта<span style=\"vertical-align: middle; margin-left: 2px; font-size: 0.7em; color: #64b5f6;\">1</span></span> <span style=\"padding: 2px; border-radius: 4px; border: 1px solid #ffcdd2; background: #ffebee\">6593.25 Российский рубль<span style=\"vertical-align: middle; margin-left: 2px; font-size: 0.7em; color: #e57373;\">₽</span></span> Порядок <span style=\"padding: 2px; border-radius: 4px; border: 1px solid #bbdefb; background: #e3f2fd\">обеспечения исполнения контракта<span style=\"vertical-align: middle; margin-left: 2px; font-size: 0.7em; color: #64b5f6;\">1</span></span>, требования к <span style=\"padding: 2px; border-radius: 4px; border: 1px solid #bbdefb; background: #e3f2fd\">обеспечению Исполнение контракта<span style=\"vertical-align: middle; margin-left: 2px; font-size: 0.7em; color: #64b5f6;\">1</span></span>, гарантийные обязательства могут обеспечиваться предоставлением независимой гарантии, соответствующей требованиям ст. 45 Федерального закона № 44-ФЗ, или внесением денежных средств на указанный заказчиком счет, на котором в соответствии с законодательством Российской Федерации учитываются операции со средствами, поступающими заказчику. Способ <span style=\"padding: 2px; border-radius: 4px; border: 1px solid #bbdefb; background: #e3f2fd\">обеспечения исполнения контракта<span style=\"vertical-align: middle; margin-left: 2px; font-size: 0.7em; color: #64b5f6;\">1</span></span>, гарантийных обязательств, срок действия независимой гарантии определяются в соответствии с требованиями Федерального закона № 44-ФЗ участником закупки, с которым заключается контракт, самостоятельно. При этом срок действия независимой гарантии должен превышать предусмотренный контрактом срок <span style=\"padding: 2px; border-radius: 4px; border: 1px solid #bbdefb; background: #e3f2fd\">исполнения обязательств<span style=\"vertical-align: middle; margin-left: 2px; font-size: 0.7em; color: #64b5f6;\">1</span></span></div>"
      ],
      "text/plain": [
       "<IPython.core.display.HTML object>"
      ]
     },
     "metadata": {},
     "output_type": "display_data"
    },
    {
     "data": {
      "text/html": [
       "<div class=\"tex2jax_ignore\" style=\"white-space: pre-wrap\"><span style=\"padding: 2px; border-radius: 4px; border: 1px solid #bbdefb; background: #e3f2fd\">обеспечение исполнения контракта<span style=\"vertical-align: middle; margin-left: 2px; font-size: 0.7em; color: #64b5f6;\">1</span></span> в <span style=\"padding: 2px; border-radius: 4px; border: 1px solid #c8e6c9; background: #e8f5e9\">размере<span style=\"vertical-align: middle; margin-left: 2px; font-size: 0.7em; color: #66bb6a;\">A</span></span> <span style=\"padding: 2px; border-radius: 4px; border: 1px solid #ffcdd2; background: #ffebee\">10 %<span style=\"vertical-align: middle; margin-left: 2px; font-size: 0.7em; color: #e57373;\">₽</span></span> от цены Контракта. В случае если <span style=\"padding: 2px; border-radius: 4px; border: 1px solid #bbdefb; background: #e3f2fd\">обеспечение исполнения контракта<span style=\"vertical-align: middle; margin-left: 2px; font-size: 0.7em; color: #64b5f6;\">1</span></span> предоставляется в виде передачи заказчику денежных средств, участник запроса котировок в электронной форме, с которым заключается контракт, перечисляет денежные средства на счет: СПб ГБУЗ ГП №95, ИНН 7817026947, КПП 781701001, Получатель платежа: Комитет финансов СПб ( СПб ГБУЗ ГП № 95, л/с 0531015) Реквизиты банковского счета: Северо-Западное ГУ БАНКА РОССИИ//УФК по г. Санкт-Петербургу, БИК 014030106, номер счета банка получателя 03224643400000007200, к/с 40102810945370000005 В поле 104 платежных документов указывается код бюджетной классификации, имеющий 20 знаков: «00000000000000003510». В платежном поручении в поле &quot;Назначение платежа&quot; указывается 510 (ВР) 0531015 Перечисление <span style=\"padding: 2px; border-radius: 4px; border: 1px solid #bbdefb; background: #e3f2fd\">обеспечения контракта<span style=\"vertical-align: middle; margin-left: 2px; font-size: 0.7em; color: #64b5f6;\">1</span></span> (предмет контракта и номер извещения об осуществлении закупки) НДС не обл. Денежные средства, внесенные в качестве <span style=\"padding: 2px; border-radius: 4px; border: 1px solid #bbdefb; background: #e3f2fd\">обеспечения исполнения Контракта<span style=\"vertical-align: middle; margin-left: 2px; font-size: 0.7em; color: #64b5f6;\">1</span></span>, в том числе части этих денежных средств в случае уменьшения <span style=\"padding: 2px; border-radius: 4px; border: 1px solid #c8e6c9; background: #e8f5e9\">размера<span style=\"vertical-align: middle; margin-left: 2px; font-size: 0.7em; color: #66bb6a;\">A</span></span></div>"
      ],
      "text/plain": [
       "<IPython.core.display.HTML object>"
      ]
     },
     "metadata": {},
     "output_type": "display_data"
    },
    {
     "data": {
      "text/html": [
       "<div class=\"tex2jax_ignore\" style=\"white-space: pre-wrap\"><span style=\"padding: 2px; border-radius: 4px; border: 1px solid #bbdefb; background: #e3f2fd\">Обеспечение исполнения контракта<span style=\"vertical-align: middle; margin-left: 2px; font-size: 0.7em; color: #64b5f6;\">1</span></span> Требуется <span style=\"padding: 2px; border-radius: 4px; border: 1px solid #bbdefb; background: #e3f2fd\">обеспечение исполнения контракта<span style=\"vertical-align: middle; margin-left: 2px; font-size: 0.7em; color: #64b5f6;\">1</span></span> <span style=\"padding: 2px; border-radius: 4px; border: 1px solid #c8e6c9; background: #e8f5e9\">Размер<span style=\"vertical-align: middle; margin-left: 2px; font-size: 0.7em; color: #66bb6a;\">A</span></span> <span style=\"padding: 2px; border-radius: 4px; border: 1px solid #bbdefb; background: #e3f2fd\">обеспечения исполнения контракта<span style=\"vertical-align: middle; margin-left: 2px; font-size: 0.7em; color: #64b5f6;\">1</span></span> <span style=\"padding: 2px; border-radius: 4px; border: 1px solid #ffcdd2; background: #ffebee\">10.00%<span style=\"vertical-align: middle; margin-left: 2px; font-size: 0.7em; color: #e57373;\">₽</span></span> Порядок <span style=\"padding: 2px; border-radius: 4px; border: 1px solid #bbdefb; background: #e3f2fd\">обеспечения исполнения контракта<span style=\"vertical-align: middle; margin-left: 2px; font-size: 0.7em; color: #64b5f6;\">1</span></span>, требования к обеспечению Участник закупки, с которым заключается контракт, может предоставить <span style=\"padding: 2px; border-radius: 4px; border: 1px solid #bbdefb; background: #e3f2fd\">обеспечение исполнения контракта<span style=\"vertical-align: middle; margin-left: 2px; font-size: 0.7em; color: #64b5f6;\">1</span></span>, гарантийных обязательств любым из двух способов: 1) внесение денежных средств на счет заказчика. Банковские реквизиты: Получатель: КОМИТЕТ ФИНАНСОВ ЛЕНИНГРАДСКОЙ ОБЛАСТИ (ГБУ ЛО «СББЖ Лужского района», л/с 20456У11900) Банк: ОТДЕЛЕНИЕ ЛЕНИНГРАДСКОЕ БАНКА РОССИИ //УФК ПО ЛЕНИНГРАДСКОЙ ОБЛАСТИ г. Санкт-Петербург р/счет 03224643410000004500 БИК 014106101 Кор.счет: 40102810745370000006 Платёжное поручение должно содержать: - КБК Заказчика 00000000000000000510, - в разделе назначение платежа указать наименование предмета контракта и ИКЗ. Факт внесения денежных средств на счет заказчика подтверждается платежным документом, на основании которого произведено перечисление средств; 2) предоставление независимой гарантии, соответствующей требованиям статьи 45 Закона № 44-ФЗ. Способ <span style=\"padding: 2px; border-radius: 4px; border: 1px solid #bbdefb; background: #e3f2fd\">обеспечения исполнения контракта<span style=\"vertical-align: middle; margin-left: 2px; font-size: 0.7em; color: #64b5f6;\">1</span></span></div>"
      ],
      "text/plain": [
       "<IPython.core.display.HTML object>"
      ]
     },
     "metadata": {},
     "output_type": "display_data"
    }
   ],
   "source": [
    "for i, _ in data.iloc[:3].iterrows():    \n",
    "    \n",
    "    lb = _['label']\n",
    "    txt = _['text']\n",
    "    _off = ps.get_offset(txt, lb)\n",
    "\n",
    "    txt = txt[_off:]\n",
    "    marks = ps.find_marks(txt, lb,\n",
    "                        amount=True,\n",
    "                        additional=True)\n",
    "    off_ = marks[-1].stop\n",
    "    txt = txt[:off_]\n",
    "    \n",
    "    ps.show_markup(txt,marks)   #   show marks in first doc"
   ]
  },
  {
   "cell_type": "code",
   "execution_count": null,
   "metadata": {},
   "outputs": [],
   "source": [
    "amount_off = []\n",
    "\n",
    "for i, _ in data.iterrows():    \n",
    "    \n",
    "    lb = _['label']\n",
    "    txt = _['text']\n",
    "\n",
    "    marks = ps.get_marks(txt, lb,\n",
    "                        amount=True)\n",
    "\n",
    "    if not (ps.get_entry(marks)):\n",
    "        amount_off.append(i)\n",
    "        ps.show_markup(txt,marks)"
   ]
  },
  {
   "cell_type": "code",
   "execution_count": 10,
   "metadata": {},
   "outputs": [
    {
     "data": {
      "text/html": [
       "<div class=\"tex2jax_ignore\" style=\"white-space: pre-wrap\">2 Приложение № 5 к извещению ТРЕБОВАНИЯ К ОБЕСПЕЧЕНИЮ ЗАЯВКИ НА УЧАСТИЕ В ЗАКУПКЕ, <span style=\"padding: 2px; border-radius: 4px; border: 1px solid #ffe0b2; background: #fff3e0\">ОБЕСПЕЧЕНИЮ ИСПОЛНЕНИЯ КОНТРАКТА И ГАРАНТИЙНЫХ ОБЯЗАТЕЛЬСТВ<span style=\"vertical-align: middle; margin-left: 2px; font-size: 0.7em; color: #ffb74d;\">2</span></span>. ИКЗ 221231508296348250100100470000000244 Раздел 1. Обеспечение заявки на участие в закупке 1.1. <span style=\"padding: 2px; border-radius: 4px; border: 1px solid #bbdefb; background: #e3f2fd\">Размер<span style=\"vertical-align: middle; margin-left: 2px; font-size: 0.7em; color: #64b5f6;\">A</span></span> обеспечения заявки на участие в закупке Не предусмотрено. 1.2. Способы и порядок обеспечения заявки на участие в закупке Обеспечение заявки на участие в закупке может предоставляться участником закупки в виде денежных средств или независимой гарантии, предусмотренной статьей 45 Федерального закона № 44-ФЗ. Срок действия независимой гарантии должен составлять не менее месяца с даты окончания срока подачи заявок. Предприятия уголовно-исполнительной системы, организации инвалидов, предусмотренные частью 2 статьи 29 Федерального закона № 44-ФЗ, предоставляют обеспечение заявки на участие в закупке (в случае установления заказчиком требования обеспечения заявок на участие в закупке) в <span style=\"padding: 2px; border-radius: 4px; border: 1px solid #bbdefb; background: #e3f2fd\">размере<span style=\"vertical-align: middle; margin-left: 2px; font-size: 0.7em; color: #64b5f6;\">A</span></span> одной второй процента начальной (максимальной) цены конт Исключение банка из перечня, предусмотренного частью 1.2 статьи 45 Федерального закона № 44-ФЗ, региональной гарантийной организации из перечня, предусмотренного частью 1.7 статьи 45 Федерального закона № 44-ФЗ, не прекращает действия</div>"
      ],
      "text/plain": [
       "<IPython.core.display.HTML object>"
      ]
     },
     "metadata": {},
     "output_type": "display_data"
    },
    {
     "data": {
      "text/html": [
       "<div class=\"tex2jax_ignore\" style=\"white-space: pre-wrap\">60 Приложение к приказу ПАО «МРСК Центра» от 17.12.2019 № 574-ЦА ТИПОВАЯ ФОРМА договора подряда на выполнение проектно-изыскательских работ (услуг) _______________________________ от «___» _________20___ г. №___________ «_____________________________________________» (наименование, место нахождения объекта строительства) Заказчик: _____________________________ Подрядчик: ___________________________ г._____________________ (место заключения Договора) СОДЕРЖАНИЕ РАЗДЕЛ I. ОСНОВНЫЕ ПОЛОЖЕНИЯ ДОГОВОРА 4 Статья 1. Основные понятия и определения 4 Статья 2. Предмет Договора 7 Статья 3. Срок выполнения работ по Договору 8 Статья 4. Цена работ по Договору 9 Статья 5. Порядок и условия платежей 11 РАЗДЕЛ II. ОБЩИЕ ОБЯЗАТЕЛЬСТВА СТОРОН 16 Статья 6. Обязательства Подрядчика 16 Статья 7. Обязательства Заказчика 21 Статья 8. <span style=\"padding: 2px; border-radius: 4px; border: 1px solid #ffe0b2; background: #fff3e0\">Обеспечение обязательств<span style=\"vertical-align: middle; margin-left: 2px; font-size: 0.7em; color: #ffb74d;\">2</span></span> Подрядчика 22 РАЗДЕЛ III. ВЫПОЛНЕНИЕ И ПРИЕМКА РАБОТ 26 Статья 9. Порядок выполнения и приемка работ по инженерным изысканиям 26 Статья 10. Порядок вып 100 или количество х цена Стои-мость 1 2 3 4 5 Итого по смете__________________________________________________________________ (<span style=\"padding: 2px; border-radius: 4px; border: 1px solid #bbdefb; background: #e3f2fd\">сумма<span style=\"vertical-align: middle; margin-left: 2px; font-size: 0.7em; color: #64b5f6;\">A</span></span> прописью) Главный инженер проекта __________________ ___________________________________ (подпись) (инициалы, фамилия) Составитель сметы __________________ ___________________________________ (подпись) (инициалы,</div>"
      ],
      "text/plain": [
       "<IPython.core.display.HTML object>"
      ]
     },
     "metadata": {},
     "output_type": "display_data"
    },
    {
     "data": {
      "text/html": [
       "<div class=\"tex2jax_ignore\" style=\"white-space: pre-wrap\">УТВЕРЖДАЮ Председатель Закупочной комиссии АО «ТСК» ___________________/А.А. Шмаков/ «06» сентября 2022г. Извещение о проведении открытого сопоставления предложений № 143- СП- 2022 1. Способ закупки: открытое сопоставление предложений (далее– сопоставление предложений). 2. Сведения о Заказчике: Наименование: Акционерное общество «Тамбовская сетевая компания» Почтовый адрес: 392000, г. Тамбов, ул. С. Рахманинова, д. 5 «б» Юридический адрес: 392000, г. Тамбов, ул. Пирогова, д. 22 «а» Контактная информация: секретарь Закупочной комиссии– Беляева Ирина Вениаминовна, тел. (4752) 71-96-89, факс: 71-94-79, эл. почта: bvi@oaotsk.ru. 3. Предмет договора: Выполнение строительно-монтажных работ в г. Уварово Тамбовской области в рамках <span style=\"padding: 2px; border-radius: 4px; border: 1px solid #ffe0b2; background: #fff3e0\">исполнения обязательств<span style=\"vertical-align: middle; margin-left: 2px; font-size: 0.7em; color: #ffb74d;\">2</span></span> АО «ТСК» по концессионному соглашению в части реконструкции водопроводной сети г. Уварово, по адресу: пер. Октябрьский. Количество поставляемого товара, объем выполняемой работы, оказываемой услуги: 1 условная единица (в соответствии с Технич 00 мин. (время московское).</div>"
      ],
      "text/plain": [
       "<IPython.core.display.HTML object>"
      ]
     },
     "metadata": {},
     "output_type": "display_data"
    },
    {
     "data": {
      "text/html": [
       "<div class=\"tex2jax_ignore\" style=\"white-space: pre-wrap\">Приложение № 9 к договору № __ от «__»_____ г. Способы <span style=\"padding: 2px; border-radius: 4px; border: 1px solid #ffe0b2; background: #fff3e0\">обеспечения исполнения обязательств<span style=\"vertical-align: middle; margin-left: 2px; font-size: 0.7em; color: #ffb74d;\">2</span></span> Подрядчика Для общих закупочных процедур (редакция приложения должна быть приведена в соответствии с условиями закупочной процедуры) 1-й вариант (БГ на возврат аванса без <span style=\"padding: 2px; border-radius: 4px; border: 1px solid #ffe0b2; background: #fff3e0\">обеспечения исполнения обязательств<span style=\"vertical-align: middle; margin-left: 2px; font-size: 0.7em; color: #ffb74d;\">2</span></span> по договору) 1. Подрядчик обязан предоставить Заказчику банковскую гарантию на <span style=\"padding: 2px; border-radius: 4px; border: 1px solid #bbdefb; background: #e3f2fd\">сумму<span style=\"vertical-align: middle; margin-left: 2px; font-size: 0.7em; color: #64b5f6;\">A</span></span> аванса[footnoteRef:1] в течение 20 дней с даты подписания Договора. Форма банковской гарантии согласована Сторонами в Приложении № 9.1 к Договору. [1: <span style=\"padding: 2px; border-radius: 4px; border: 1px solid #bbdefb; background: #e3f2fd\">Сумма<span style=\"vertical-align: middle; margin-left: 2px; font-size: 0.7em; color: #64b5f6;\">A</span></span> банковской гарантии на возврат авансового платежа рассчитывается с учетом ставки НДС, если он начисляется в случаях, предусмотренных законодательством согласно п. 3 ст. 164 НК РФ.] 1. Выплата аванса возможна в любом случае не ранее предоставления банковской гарантии на возврат авансового платежа, к отношениям Сторон в данном случае применяются правила о встречном <span style=\"padding: 2px; border-radius: 4px; border: 1px solid #ffe0b2; background: #fff3e0\">исполнении обязательств<span style=\"vertical-align: middle; margin-left: 2px; font-size: 0.7em; color: #ffb74d;\">2</span></span> согласно ст. 328 Гражданского Кодекса РФ. 1. Срок действия банковской  22</div>"
      ],
      "text/plain": [
       "<IPython.core.display.HTML object>"
      ]
     },
     "metadata": {},
     "output_type": "display_data"
    },
    {
     "data": {
      "text/html": [
       "<div class=\"tex2jax_ignore\" style=\"white-space: pre-wrap\">Приложение 6 к Договору поставки от «___» ________ _ г. № ____ <span style=\"padding: 2px; border-radius: 4px; border: 1px solid #ffe0b2; background: #fff3e0\">Обеспечение исполнения обязательств<span style=\"vertical-align: middle; margin-left: 2px; font-size: 0.7em; color: #ffb74d;\">2</span></span>[footnoteRef:1] [1: Условия применения и содержание может быть скорректировано в соответствии с организационно-распорядительным документом Покупателя и протоколом закупочного органа Покупателя.] 1. Поставщик должен предоставить <span style=\"padding: 2px; border-radius: 4px; border: 1px solid #ffe0b2; background: #fff3e0\">обеспечение исполнения обязательств<span style=\"vertical-align: middle; margin-left: 2px; font-size: 0.7em; color: #ffb74d;\">2</span></span> по Договору[footnoteRef:2](и обеспечение возврата авансовых платежей)[footnoteRef:3]. Все расходы, связанные с предоставлением такого обеспечения, несет Поставщик. [2: Условия об обеспечении включаются в соответствии с организационно-распорядительным документом Покупателя и протоколом закупочного органа Покупателя.] [3: Включается в соответствии с организационно-распорядительным документом Покупателя, если предусмотрен аванс по договору. По договорам, заключаемым по итогам спецторгов с субъектами МСП, банковская гарантия на возврат авансовых платежей не предусматривается, используется только банковская гарантия на исполнение обяза ПОКУПАТЕЛЬ _______________________ ______________________/_______________/ «___» __________ 20__ г. М.П. ПОСТАВЩИК _______________________ ______________/___________________/ «___» __________ 20__ г. М.П.</div>"
      ],
      "text/plain": [
       "<IPython.core.display.HTML object>"
      ]
     },
     "metadata": {},
     "output_type": "display_data"
    },
    {
     "data": {
      "text/html": [
       "<div class=\"tex2jax_ignore\" style=\"white-space: pre-wrap\">Приложение № 9 к Договору № __ от «__»_____ г. Способы <span style=\"padding: 2px; border-radius: 4px; border: 1px solid #ffe0b2; background: #fff3e0\">обеспечения исполнения обязательств<span style=\"vertical-align: middle; margin-left: 2px; font-size: 0.7em; color: #ffb74d;\">2</span></span> Поставщика Для закупочных процедур, проводимых только среди СМСП (редакция приложения должна быть приведена в соответствии с условиями закупочной процедуры) 1-й Вариант (БГ на <span style=\"padding: 2px; border-radius: 4px; border: 1px solid #ffe0b2; background: #fff3e0\">исполнение обязательств<span style=\"vertical-align: middle; margin-left: 2px; font-size: 0.7em; color: #ffb74d;\">2</span></span> по договору без обеспечения в гарантийный период) 1. В качестве способа обеспечения надлежащего <span style=\"padding: 2px; border-radius: 4px; border: 1px solid #ffe0b2; background: #fff3e0\">исполнения обязательств<span style=\"vertical-align: middle; margin-left: 2px; font-size: 0.7em; color: #ffb74d;\">2</span></span> по Договору Поставщик по своему выбору в течение 20 дней с даты подписания Договора обязуется предоставить Покупателю обеспечение в виде банковской гарантии надлежащего <span style=\"padding: 2px; border-radius: 4px; border: 1px solid #ffe0b2; background: #fff3e0\">исполнения обязательств<span style=\"vertical-align: middle; margin-left: 2px; font-size: 0.7em; color: #ffb74d;\">2</span></span> или внесения денежных средств на расчетный счет Покупателя, указанный в Договоре, в соответствии со ст.381.1 ГК РФ (далее – «обеспечительный платеж»). На <span style=\"padding: 2px; border-radius: 4px; border: 1px solid #bbdefb; background: #e3f2fd\">сумму<span style=\"vertical-align: middle; margin-left: 2px; font-size: 0.7em; color: #64b5f6;\">A</span></span> обеспечительного платежа проценты, установленные статьей 317.1 ГК РФ, не начисляются. Датой внесения обеспечительного платежа считается дата зачисления денежных средств на расчетный счет Покупателя. 1. Банковская гарантия (обеспечительн Указанная денежная <span style=\"padding: 2px; border-radius: 4px; border: 1px solid #bbdefb; background: #e3f2fd\">сумма<span style=\"vertical-align: middle; margin-left: 2px; font-size: 0.7em; color: #64b5f6;\">A</span></span> является согласованной Сторонами штрафной неустойкой за частичную потерю Покупателем соответствующих гарантийных обязательств со стороны Поставщика.</div>"
      ],
      "text/plain": [
       "<IPython.core.display.HTML object>"
      ]
     },
     "metadata": {},
     "output_type": "display_data"
    }
   ],
   "source": [
    "for i, _ in data.loc[not_found_p].iterrows():    \n",
    "    \n",
    "    lb = _['label']\n",
    "    txt = _['text']\n",
    "    # _off = ps.find_offset(txt, lb)\n",
    "\n",
    "    # txt = txt[_off:]\n",
    "    marks = ps.get_marks(txt, lb,\n",
    "                        amount=True,\n",
    "                        additional=True)\n",
    "    # off_ = marks[-1].stop\n",
    "    # txt = txt[:off_]\n",
    "    ps.show_markup(txt,marks)"
   ]
  },
  {
   "cell_type": "code",
   "execution_count": null,
   "metadata": {},
   "outputs": [],
   "source": [
    "\n",
    "\n",
    "\n"
   ]
  },
  {
   "cell_type": "code",
   "execution_count": 3,
   "metadata": {},
   "outputs": [],
   "source": [
    "from natasha import (\n",
    "    Segmenter,\n",
    "    MorphVocab,\n",
    "    \n",
    "    NewsEmbedding,\n",
    "    NewsMorphTagger,\n",
    "    NewsSyntaxParser,\n",
    "    MoneyExtractor,\n",
    "    Doc\n",
    "\n",
    "    \n",
    ")\n",
    "\n",
    "\n",
    "from razdel import tokenize\n",
    "from razdel import sentenize\n",
    "\n",
    "tokens = list(tokenize(data[0]['text']))\n",
    "for _ in tokens:\n",
    "    print(i)\n",
    "\n",
    "    \n",
    "segmenter = Segmenter()\n",
    "morph_vocab = MorphVocab()\n",
    "\n",
    "emb = NewsEmbedding()\n",
    "morph_tagger = NewsMorphTagger(emb)\n",
    "syntax_parser = NewsSyntaxParser(emb)\n",
    "\n",
    "\n",
    "# text = text[spans[0].start:spans[-1].stop]\n",
    "# text = 'Способ обеспечения исполнения контракта, гарантийных обязательств'\n",
    "# doc = Doc(text)\n",
    "\n",
    "# doc.segment(segmenter)\n",
    "# doc.tag_morph(morph_tagger)\n",
    "# doc.parse_syntax(syntax_parser)\n",
    "\n",
    "# sent = doc.sents[0]\n",
    "# # sent.morph.print()\n",
    "\n",
    "\n",
    "# sent.syntax.print()\n"
   ]
  }
 ],
 "metadata": {
  "kernelspec": {
   "display_name": "base",
   "language": "python",
   "name": "python3"
  },
  "language_info": {
   "codemirror_mode": {
    "name": "ipython",
    "version": 3
   },
   "file_extension": ".py",
   "mimetype": "text/x-python",
   "name": "python",
   "nbconvert_exporter": "python",
   "pygments_lexer": "ipython3",
   "version": "3.10.9"
  },
  "orig_nbformat": 4
 },
 "nbformat": 4,
 "nbformat_minor": 2
}
