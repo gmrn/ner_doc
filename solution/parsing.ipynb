{
 "cells": [
  {
   "attachments": {},
   "cell_type": "markdown",
   "metadata": {},
   "source": [
    "#\n",
    "### **Парсер: подготовка данных**"
   ]
  },
  {
   "cell_type": "code",
   "execution_count": 1,
   "metadata": {},
   "outputs": [],
   "source": [
    "from pandas import read_csv \n",
    "from data.labels import labels\n",
    "\n",
    "\n",
    "path = 'data/'\n",
    "label1 = labels['label1']"
   ]
  },
  {
   "cell_type": "code",
   "execution_count": 2,
   "metadata": {},
   "outputs": [
    {
     "data": {
      "text/html": [
       "<div>\n",
       "<style scoped>\n",
       "    .dataframe tbody tr th:only-of-type {\n",
       "        vertical-align: middle;\n",
       "    }\n",
       "\n",
       "    .dataframe tbody tr th {\n",
       "        vertical-align: top;\n",
       "    }\n",
       "\n",
       "    .dataframe thead th {\n",
       "        text-align: right;\n",
       "    }\n",
       "</style>\n",
       "<table border=\"1\" class=\"dataframe\">\n",
       "  <thead>\n",
       "    <tr style=\"text-align: right;\">\n",
       "      <th></th>\n",
       "      <th>text</th>\n",
       "      <th>label</th>\n",
       "    </tr>\n",
       "    <tr>\n",
       "      <th>id</th>\n",
       "      <th></th>\n",
       "      <th></th>\n",
       "    </tr>\n",
       "  </thead>\n",
       "  <tbody>\n",
       "    <tr>\n",
       "      <th>809436509</th>\n",
       "      <td>Извещение о проведении открытого конкурса в эл...</td>\n",
       "      <td>обеспечение исполнения контракта</td>\n",
       "    </tr>\n",
       "    <tr>\n",
       "      <th>854885310</th>\n",
       "      <td>ТРЕБОВАНИЯ К СОДЕРЖАНИЮ ЗАЯВКИ участника запро...</td>\n",
       "      <td>обеспечение исполнения контракта</td>\n",
       "    </tr>\n",
       "    <tr>\n",
       "      <th>4382157</th>\n",
       "      <td>Извещение о проведении электронного аукциона д...</td>\n",
       "      <td>обеспечение исполнения контракта</td>\n",
       "    </tr>\n",
       "    <tr>\n",
       "      <th>184555082</th>\n",
       "      <td>Извещение о проведении электронного аукциона д...</td>\n",
       "      <td>обеспечение исполнения контракта</td>\n",
       "    </tr>\n",
       "    <tr>\n",
       "      <th>211645258</th>\n",
       "      <td>Извещение о проведении электронного аукциона д...</td>\n",
       "      <td>обеспечение исполнения контракта</td>\n",
       "    </tr>\n",
       "  </tbody>\n",
       "</table>\n",
       "</div>"
      ],
      "text/plain": [
       "                                                        text  \\\n",
       "id                                                             \n",
       "809436509  Извещение о проведении открытого конкурса в эл...   \n",
       "854885310  ТРЕБОВАНИЯ К СОДЕРЖАНИЮ ЗАЯВКИ участника запро...   \n",
       "4382157    Извещение о проведении электронного аукциона д...   \n",
       "184555082  Извещение о проведении электронного аукциона д...   \n",
       "211645258  Извещение о проведении электронного аукциона д...   \n",
       "\n",
       "                                      label  \n",
       "id                                           \n",
       "809436509  обеспечение исполнения контракта  \n",
       "854885310  обеспечение исполнения контракта  \n",
       "4382157    обеспечение исполнения контракта  \n",
       "184555082  обеспечение исполнения контракта  \n",
       "211645258  обеспечение исполнения контракта  "
      ]
     },
     "execution_count": 2,
     "metadata": {},
     "output_type": "execute_result"
    }
   ],
   "source": [
    "train = read_csv(path + 'train.csv', index_col='id')\n",
    "train.head()"
   ]
  },
  {
   "cell_type": "code",
   "execution_count": 3,
   "metadata": {},
   "outputs": [
    {
     "data": {
      "text/html": [
       "<div>\n",
       "<style scoped>\n",
       "    .dataframe tbody tr th:only-of-type {\n",
       "        vertical-align: middle;\n",
       "    }\n",
       "\n",
       "    .dataframe tbody tr th {\n",
       "        vertical-align: top;\n",
       "    }\n",
       "\n",
       "    .dataframe thead th {\n",
       "        text-align: right;\n",
       "    }\n",
       "</style>\n",
       "<table border=\"1\" class=\"dataframe\">\n",
       "  <thead>\n",
       "    <tr style=\"text-align: right;\">\n",
       "      <th></th>\n",
       "      <th>start</th>\n",
       "      <th>stop</th>\n",
       "      <th>search</th>\n",
       "    </tr>\n",
       "    <tr>\n",
       "      <th>id</th>\n",
       "      <th></th>\n",
       "      <th></th>\n",
       "      <th></th>\n",
       "    </tr>\n",
       "  </thead>\n",
       "  <tbody>\n",
       "    <tr>\n",
       "      <th>809436509</th>\n",
       "      <td>1279</td>\n",
       "      <td>1343</td>\n",
       "      <td>Размер обеспечения исполнения контракта 6593.2...</td>\n",
       "    </tr>\n",
       "    <tr>\n",
       "      <th>854885310</th>\n",
       "      <td>1222</td>\n",
       "      <td>1318</td>\n",
       "      <td>Поставщик должен предоставить обеспечение испо...</td>\n",
       "    </tr>\n",
       "    <tr>\n",
       "      <th>4382157</th>\n",
       "      <td>1297</td>\n",
       "      <td>1343</td>\n",
       "      <td>Размер обеспечения исполнения контракта 10.00%</td>\n",
       "    </tr>\n",
       "    <tr>\n",
       "      <th>184555082</th>\n",
       "      <td>1304</td>\n",
       "      <td>1350</td>\n",
       "      <td>Размер обеспечения исполнения контракта 10.00%</td>\n",
       "    </tr>\n",
       "    <tr>\n",
       "      <th>211645258</th>\n",
       "      <td>1302</td>\n",
       "      <td>1348</td>\n",
       "      <td>Размер обеспечения исполнения контракта 10.00%</td>\n",
       "    </tr>\n",
       "  </tbody>\n",
       "</table>\n",
       "</div>"
      ],
      "text/plain": [
       "           start  stop                                             search\n",
       "id                                                                       \n",
       "809436509   1279  1343  Размер обеспечения исполнения контракта 6593.2...\n",
       "854885310   1222  1318  Поставщик должен предоставить обеспечение испо...\n",
       "4382157     1297  1343     Размер обеспечения исполнения контракта 10.00%\n",
       "184555082   1304  1350     Размер обеспечения исполнения контракта 10.00%\n",
       "211645258   1302  1348     Размер обеспечения исполнения контракта 10.00%"
      ]
     },
     "execution_count": 3,
     "metadata": {},
     "output_type": "execute_result"
    }
   ],
   "source": [
    "tar = read_csv(path + 'target.csv', index_col='id')\n",
    "tar.head()"
   ]
  },
  {
   "attachments": {},
   "cell_type": "markdown",
   "metadata": {},
   "source": [
    "#\n",
    "#### **nerpa extractor**\n",
    "`Extractor nerpa` сделан на [yargy](https://github.com/natasha/yargy), подсветка реализована с помощью [ipymarkup](https://github.com/natasha/ipymarkup).\n",
    "Все инструменты из open source проекта `natasha`  "
   ]
  },
  {
   "cell_type": "code",
   "execution_count": 4,
   "metadata": {},
   "outputs": [],
   "source": [
    "import nerpa\n",
    "from rules.rules import(\n",
    "    Contract, Guarantee,\n",
    "    Amount,\n",
    "    Addition\n",
    ")\n",
    "\n",
    "exone = nerpa.Extractor(\n",
    "    [Contract, Amount, Addition])\n",
    "extwo = nerpa.Extractor(\n",
    "    [Guarantee, Amount, Addition])\n",
    "\n",
    "def switch_extractor(label):\n",
    "    return exone if label == label1 else extwo"
   ]
  },
  {
   "cell_type": "code",
   "execution_count": 5,
   "metadata": {},
   "outputs": [
    {
     "data": {
      "text/html": [
       "<div class=\"tex2jax_ignore\" style=\"white-space: pre-wrap\"><span style=\"padding: 2px; border-radius: 4px; border: 1px solid #bbdefb; background: #e3f2fd\">Размер<span style=\"vertical-align: middle; margin-left: 2px; font-size: 0.7em; color: #64b5f6;\">ADD</span></span> обеспечения заявки <span style=\"padding: 2px; border-radius: 4px; border: 1px solid #c8e6c9; background: #e8f5e9\">6670.62 Российский рубль<span style=\"vertical-align: middle; margin-left: 2px; font-size: 0.7em; color: #66bb6a;\">₽</span></span> Порядок внесения денежных средств в качестве обеспечения заявки на участие в закупке, а также условия гарантии Обеспечение заявки на участие в аукционе может предоставляться участником закупки в виде денежных средств или независимой гарантии. Выбор способа обеспечения заявки на участие в аукционе осуществляется участником закупки. В соответствии со статьей 44 Федерального закона. Реквизиты счета в соответствии с п.16 ч. 1 ст. 42 Закона № 44-ФЗ &quot;Номер расчётного счёта&quot; 40101810335100010001 &quot;Номер лицевого счёта&quot; 04752202870 &quot;БИК&quot; 043510001 &quot;Наименование кредитной организации&quot; УФК по Республике Крым (Минздрав РК, л/с 04752202870) &quot;Номер корреспондентского счета&quot; <span style=\"padding: 2px; border-radius: 4px; border: 1px solid #ffcdd2; background: #ffebee\">Обеспечение исполнения контракта<span style=\"vertical-align: middle; margin-left: 2px; font-size: 0.7em; color: #e57373;\">1</span></span> Требуется <span style=\"padding: 2px; border-radius: 4px; border: 1px solid #ffcdd2; background: #ffebee\">обеспечение исполнения контракта<span style=\"vertical-align: middle; margin-left: 2px; font-size: 0.7em; color: #e57373;\">1</span></span> <span style=\"padding: 2px; border-radius: 4px; border: 1px solid #bbdefb; background: #e3f2fd\">Размер<span style=\"vertical-align: middle; margin-left: 2px; font-size: 0.7em; color: #64b5f6;\">ADD</span></span> <span style=\"padding: 2px; border-radius: 4px; border: 1px solid #ffcdd2; background: #ffebee\">обеспечения исполнения контракта<span style=\"vertical-align: middle; margin-left: 2px; font-size: 0.7em; color: #e57373;\">1</span></span> <span style=\"padding: 2px; border-radius: 4px; border: 1px solid #c8e6c9; background: #e8f5e9\">33353.10 Российский рубль<span style=\"vertical-align: middle; margin-left: 2px; font-size: 0.7em; color: #66bb6a;\">₽</span></span> Порядок <span style=\"padding: 2px; border-radius: 4px; border: 1px solid #ffcdd2; background: #ffebee\">обеспечения исполнения контракта<span style=\"vertical-align: middle; margin-left: 2px; font-size: 0.7em; color: #e57373;\">1</span></span>, требования к обеспечению Поставщик до заключения Контракта предоставляет Заказчику <span style=\"padding: 2px; border-radius: 4px; border: 1px solid #ffcdd2; background: #ffebee\">обеспечение исполнения Контракта<span style=\"vertical-align: middle; margin-left: 2px; font-size: 0.7em; color: #e57373;\">1</span></span></div>"
      ],
      "text/plain": [
       "<IPython.core.display.HTML object>"
      ]
     },
     "metadata": {},
     "output_type": "display_data"
    },
    {
     "name": "stdout",
     "output_type": "stream",
     "text": [
      "['label1', 'amount', 'addition']\n",
      "ADD₽11ADD1₽11\n",
      "\n"
     ]
    },
    {
     "data": {
      "text/html": [
       "<div class=\"tex2jax_ignore\" style=\"white-space: pre-wrap\"><span style=\"padding: 2px; border-radius: 4px; border: 1px solid #ffe0b2; background: #fff3e0\">Обеспечение гарантийных обязательств<span style=\"vertical-align: middle; margin-left: 2px; font-size: 0.7em; color: #ffb74d;\">2</span></span> Требуется <span style=\"padding: 2px; border-radius: 4px; border: 1px solid #ffe0b2; background: #fff3e0\">обеспечение гарантийных обязательств<span style=\"vertical-align: middle; margin-left: 2px; font-size: 0.7em; color: #ffb74d;\">2</span></span> <span style=\"padding: 2px; border-radius: 4px; border: 1px solid #bbdefb; background: #e3f2fd\">Размер<span style=\"vertical-align: middle; margin-left: 2px; font-size: 0.7em; color: #64b5f6;\">ADD</span></span> <span style=\"padding: 2px; border-radius: 4px; border: 1px solid #ffe0b2; background: #fff3e0\">обеспечения гарантийных обязательств<span style=\"vertical-align: middle; margin-left: 2px; font-size: 0.7em; color: #ffb74d;\">2</span></span> <span style=\"padding: 2px; border-radius: 4px; border: 1px solid #c8e6c9; background: #e8f5e9\">1597.60 Российский рубль<span style=\"vertical-align: middle; margin-left: 2px; font-size: 0.7em; color: #66bb6a;\">₽</span></span> Порядок предоставления <span style=\"padding: 2px; border-radius: 4px; border: 1px solid #ffe0b2; background: #fff3e0\">обеспечения гарантийных обязательств<span style=\"vertical-align: middle; margin-left: 2px; font-size: 0.7em; color: #ffb74d;\">2</span></span>, требования к обеспечению Порядок и срок предоставления <span style=\"padding: 2px; border-radius: 4px; border: 1px solid #ffe0b2; background: #fff3e0\">обеспечения исполнения гарантийных обязательств<span style=\"vertical-align: middle; margin-left: 2px; font-size: 0.7em; color: #ffb74d;\">2</span></span> (применяется только в случае установления в Проекте контракта гарантии качества товара, работы, услуги и установления в настоящем извещении <span style=\"padding: 2px; border-radius: 4px; border: 1px solid #bbdefb; background: #e3f2fd\">размера<span style=\"vertical-align: middle; margin-left: 2px; font-size: 0.7em; color: #64b5f6;\">ADD</span></span> <span style=\"padding: 2px; border-radius: 4px; border: 1px solid #ffe0b2; background: #fff3e0\">обеспечения гарантийных обязательств<span style=\"vertical-align: middle; margin-left: 2px; font-size: 0.7em; color: #ffb74d;\">2</span></span>). <span style=\"padding: 2px; border-radius: 4px; border: 1px solid #ffe0b2; background: #fff3e0\">Исполнение гарантийных обязательств<span style=\"vertical-align: middle; margin-left: 2px; font-size: 0.7em; color: #ffb74d;\">2</span></span> может обеспечиваться предоставлением независимой гарантии, выданной в соответствии с требованиями ст.45 № 44-ФЗ, или внесением денежных средств на счет Заказчика по реквизитам, на которые в соответствии с настоящим контрактом перечисляются денежные средства в качестве обеспечения исполнения контракта, с обязательным указанием соответствующего назначения платежа в платежном поручении. Способ <span style=\"padding: 2px; border-radius: 4px; border: 1px solid #ffe0b2; background: #fff3e0\">обеспечения гарантийных обязательств<span style=\"vertical-align: middle; margin-left: 2px; font-size: 0.7em; color: #ffb74d;\">2</span></span>, срок действия независимой гарантии определяются в соответствии с требованиями закона 44-ФЗ Поставщиком (подрядчиком, исполнителем) самостоятельно. При этом срок действия независимо Поставщик (подрядчик, исполнитель) вправе изменить способ <span style=\"padding: 2px; border-radius: 4px; border: 1px solid #ffe0b2; background: #fff3e0\">обеспечения гарантийных обязательств<span style=\"vertical-align: middle; margin-left: 2px; font-size: 0.7em; color: #ffb74d;\">2</span></span> и (или) предоставить заказчику взамен ранее предоставленного <span style=\"padding: 2px; border-radius: 4px; border: 1px solid #ffe0b2; background: #fff3e0\">обеспечения гарантийных обязательств<span style=\"vertical-align: middle; margin-left: 2px; font-size: 0.7em; color: #ffb74d;\">2</span></span> новое <span style=\"padding: 2px; border-radius: 4px; border: 1px solid #ffe0b2; background: #fff3e0\">обеспечение гарантийных обязательств<span style=\"vertical-align: middle; margin-left: 2px; font-size: 0.7em; color: #ffb74d;\">2</span></span></div>"
      ],
      "text/plain": [
       "<IPython.core.display.HTML object>"
      ]
     },
     "metadata": {},
     "output_type": "display_data"
    },
    {
     "name": "stdout",
     "output_type": "stream",
     "text": [
      "['label2', 'amount', 'addition']\n",
      "22ADD2₽22ADD222222\n",
      "\n"
     ]
    },
    {
     "data": {
      "text/html": [
       "<div class=\"tex2jax_ignore\" style=\"white-space: pre-wrap\"><span style=\"padding: 2px; border-radius: 4px; border: 1px solid #bbdefb; background: #e3f2fd\">Сумма<span style=\"vertical-align: middle; margin-left: 2px; font-size: 0.7em; color: #64b5f6;\">ADD</span></span> на последующие годы 145739.95 145739.95 0.00 0.00 0.00 Этапы <span style=\"padding: 2px; border-radius: 4px; border: 1px solid #ffcdd2; background: #ffebee\">исполнения контракта<span style=\"vertical-align: middle; margin-left: 2px; font-size: 0.7em; color: #e57373;\">1</span></span> Контракт не разделен на этапы <span style=\"padding: 2px; border-radius: 4px; border: 1px solid #ffcdd2; background: #ffebee\">исполнения контракта<span style=\"vertical-align: middle; margin-left: 2px; font-size: 0.7em; color: #e57373;\">1</span></span> Финансирование за счет бюджетных средств Код бюджетной классификации Российской Федерации <span style=\"padding: 2px; border-radius: 4px; border: 1px solid #bbdefb; background: #e3f2fd\">Сумма<span style=\"vertical-align: middle; margin-left: 2px; font-size: 0.7em; color: #64b5f6;\">ADD</span></span> контракта (в валюте контракта) на 2022 год на 2023 год на 2024 год на 2025 год 1 2 3 4 5 555010480001М2044242 145739.95 0 0 0 Итого 145739.95 0.00 0.00 0.00 Место поставки товара, выполнения работы или оказания услуги Российская Федерация, Челябинская обл, Челябинск г, ул. Богдана Хмельницкого, дом 6, помещение Администрации Металлургического района, кабинет 10 Предусмотрена возможность одностороннего отказа от <span style=\"padding: 2px; border-radius: 4px; border: 1px solid #ffcdd2; background: #ffebee\">исполнения контракта<span style=\"vertical-align: middle; margin-left: 2px; font-size: 0.7em; color: #e57373;\">1</span></span> в соответствии со ст. 95 Закона № 44-ФЗ Да Обеспечение заявки Обеспечение заявок не требуется <span style=\"padding: 2px; border-radius: 4px; border: 1px solid #ffcdd2; background: #ffebee\">Обеспечение исполнения контракта<span style=\"vertical-align: middle; margin-left: 2px; font-size: 0.7em; color: #e57373;\">1</span></span> Требуется <span style=\"padding: 2px; border-radius: 4px; border: 1px solid #ffcdd2; background: #ffebee\">обеспечение исполнения контракта<span style=\"vertical-align: middle; margin-left: 2px; font-size: 0.7em; color: #e57373;\">1</span></span> <span style=\"padding: 2px; border-radius: 4px; border: 1px solid #bbdefb; background: #e3f2fd\">Размер<span style=\"vertical-align: middle; margin-left: 2px; font-size: 0.7em; color: #64b5f6;\">ADD</span></span> <span style=\"padding: 2px; border-radius: 4px; border: 1px solid #ffcdd2; background: #ffebee\">обеспечения исполнения контракта<span style=\"vertical-align: middle; margin-left: 2px; font-size: 0.7em; color: #e57373;\">1</span></span> <span style=\"padding: 2px; border-radius: 4px; border: 1px solid #c8e6c9; background: #e8f5e9\">29147.99 Российский рубль<span style=\"vertical-align: middle; margin-left: 2px; font-size: 0.7em; color: #66bb6a;\">₽</span></span> Порядок <span style=\"padding: 2px; border-radius: 4px; border: 1px solid #ffcdd2; background: #ffebee\">обеспечения исполнения контракта<span style=\"vertical-align: middle; margin-left: 2px; font-size: 0.7em; color: #e57373;\">1</span></span>, требования к обеспечению Согласно приложению к извещению &quot;Приложение к извещению (<span style=\"padding: 2px; border-radius: 4px; border: 1px solid #ffcdd2; background: #ffebee\">обеспечение контракта<span style=\"vertical-align: middle; margin-left: 2px; font-size: 0.7em; color: #e57373;\">1</span></span></div>"
      ],
      "text/plain": [
       "<IPython.core.display.HTML object>"
      ]
     },
     "metadata": {},
     "output_type": "display_data"
    },
    {
     "name": "stdout",
     "output_type": "stream",
     "text": [
      "['label1', 'amount', 'addition']\n",
      "ADD11ADD111ADD1₽11\n",
      "\n"
     ]
    }
   ],
   "source": [
    "for id, _ in train.iloc[61:64].iterrows():\n",
    "\n",
    "    lb = _['label']\n",
    "    txt = _['text']\n",
    "\n",
    "    ex_ = switch_extractor(lb)\n",
    "             \n",
    "    nerpack = nerpa.NERpack(entities=ex_(txt))\n",
    "    \n",
    "    nerpack.show(txt)\n",
    "    print(nerpack.entities) \n",
    "\n",
    "    print(nerpack.markstr() + '\\n')    #   show mark's tags "
   ]
  },
  {
   "attachments": {},
   "cell_type": "markdown",
   "metadata": {},
   "source": [
    "#\n",
    "#### **false negative/positive errors**"
   ]
  },
  {
   "attachments": {},
   "cell_type": "markdown",
   "metadata": {},
   "source": [
    "Находим пустые записи в `extracted_part`"
   ]
  },
  {
   "cell_type": "code",
   "execution_count": 6,
   "metadata": {},
   "outputs": [],
   "source": [
    "len = tar['stop'] - tar['start']\n",
    "\n",
    "answ_on = tar[len != 0].index\n",
    "answ_off = tar[len == 0].index"
   ]
  },
  {
   "attachments": {},
   "cell_type": "markdown",
   "metadata": {},
   "source": [
    "Определяем ошибки 1 и 2 рода, где парсер нашел пункт, хотя ответа нет и где не нашел, но ответ есть\n",
    "\n",
    "В идеале оба массива ошибок должны быть пустыми, но в приоритете избавиться от ошибок типа *false negative* (II), так как мы сразу отбросим эти записи и больше не сможем с ними работать\n",
    "\n",
    "Ошибки типа *false positive* (I) могут отсеяться на следующих этапах парсинга"
   ]
  },
  {
   "cell_type": "code",
   "execution_count": 7,
   "metadata": {},
   "outputs": [],
   "source": [
    "one_check = nerpa.Extractor([Contract])\n",
    "two_check = nerpa.Extractor([Guarantee])"
   ]
  },
  {
   "cell_type": "code",
   "execution_count": 8,
   "metadata": {},
   "outputs": [],
   "source": [
    "label_off = []  # search all labeloff docs\n",
    "\n",
    "for id, _ in train.iterrows():\n",
    "\n",
    "    lb =  _['label']\n",
    "    txt = _['text']\n",
    "\n",
    "    extractor = (one_check \n",
    "                 if lb == label1 \n",
    "                 else two_check)\n",
    "\n",
    "    if extractor.empty(txt):\n",
    "        label_off.append(id) "
   ]
  },
  {
   "cell_type": "code",
   "execution_count": 9,
   "metadata": {},
   "outputs": [],
   "source": [
    "label_on = [x for x in train.index \n",
    "            if x not in label_off]"
   ]
  },
  {
   "cell_type": "code",
   "execution_count": 10,
   "metadata": {},
   "outputs": [
    {
     "name": "stdout",
     "output_type": "stream",
     "text": [
      "[476192036, 588528614, 833988154, 219363951, 471097685, 14015810] []\n"
     ]
    }
   ],
   "source": [
    "errorsI = [x for x in label_on if x in answ_off]\n",
    "errorsII = [x for x in label_off if x in answ_on]\n",
    "\n",
    "print(errorsI, errorsII)"
   ]
  },
  {
   "attachments": {},
   "cell_type": "markdown",
   "metadata": {},
   "source": [
    "Корректируем правила для [labels](rules/entities/label.py)\n",
    "\n",
    "```python\n",
    "CONTRACT = rule(\n",
    "    or_(\n",
    "        normalized('обеспечение'),\n",
    "        normalized('исполнение'),\n",
    "    ).repeatable(),\n",
    "    normalized('настоящий').optional(),\n",
    "    or_(\n",
    "        normalized('контракт'),\n",
    "        normalized('договор'),\n",
    "    )\n",
    ")\n",
    "```"
   ]
  },
  {
   "cell_type": "code",
   "execution_count": 11,
   "metadata": {},
   "outputs": [],
   "source": [
    "#      >>>execute 4th, 5th code cells"
   ]
  },
  {
   "attachments": {},
   "cell_type": "markdown",
   "metadata": {},
   "source": [
    "Убираем из датасета записи, где парсер не нашел нужный лэйбл"
   ]
  },
  {
   "cell_type": "code",
   "execution_count": 12,
   "metadata": {},
   "outputs": [
    {
     "data": {
      "text/plain": [
       "(1498, 2)"
      ]
     },
     "execution_count": 12,
     "metadata": {},
     "output_type": "execute_result"
    }
   ],
   "source": [
    "train = train.loc[label_on]\n",
    "train.shape"
   ]
  },
  {
   "attachments": {},
   "cell_type": "markdown",
   "metadata": {},
   "source": [
    "#\n",
    "#### **__**\n",
    "\n"
   ]
  },
  {
   "cell_type": "code",
   "execution_count": 13,
   "metadata": {},
   "outputs": [],
   "source": [
    "amount_check = nerpa.Extractor([Amount])\n",
    "amount_off = []\n",
    "\n",
    "for id, _ in train.iterrows():\n",
    "    txt = _['text']     \n",
    "    if amount_check.empty(txt):\n",
    "        amount_off.append(id)"
   ]
  },
  {
   "cell_type": "code",
   "execution_count": 14,
   "metadata": {},
   "outputs": [
    {
     "data": {
      "text/plain": [
       "True"
      ]
     },
     "execution_count": 14,
     "metadata": {},
     "output_type": "execute_result"
    }
   ],
   "source": [
    "amount_off == errorsI"
   ]
  },
  {
   "cell_type": "code",
   "execution_count": 15,
   "metadata": {},
   "outputs": [
    {
     "data": {
      "text/plain": [
       "(1492, 2)"
      ]
     },
     "execution_count": 15,
     "metadata": {},
     "output_type": "execute_result"
    }
   ],
   "source": [
    "train= train.drop(train.loc[amount_off].index)\n",
    "train.shape"
   ]
  },
  {
   "cell_type": "code",
   "execution_count": 16,
   "metadata": {},
   "outputs": [],
   "source": [
    "import re\n",
    "def find_entries(markstr, patterns):\n",
    "    entries = []\n",
    "    for __ in patterns:\n",
    "        entries += [_.start() for _ in re.finditer(__, markstr)]\n",
    "    return entries"
   ]
  },
  {
   "cell_type": "code",
   "execution_count": 17,
   "metadata": {},
   "outputs": [],
   "source": [
    "addonep = ['312', '132']    #   ['ADD{1,2}₽', '{1,2}ADD₽']\n",
    "onep = ['12']   #   '{1,2}₽'"
   ]
  },
  {
   "cell_type": "code",
   "execution_count": 19,
   "metadata": {},
   "outputs": [],
   "source": [
    "pattern_entries = []\n",
    "\n",
    "for id, _ in train.iterrows():\n",
    "\n",
    "    lb = _['label']\n",
    "    txt = _['text']\n",
    "             \n",
    "    extractor = switch_extractor(lb)\n",
    "    nerpack = nerpa.NERpack(extractor(txt))\n",
    "    \n",
    "    markstr = (nerpack.markstr()\n",
    "                    .replace('2', '1')\n",
    "                    .replace('₽', '2') \n",
    "                    .replace('ADD', '3')\n",
    "                    )\n",
    "    pattern_entry = find_entries(markstr, addonep)\n",
    "\n",
    "    pattern_entries.append(\n",
    "        pattern_entry if pattern_entry \n",
    "        else find_entries(markstr, onep)\n",
    "    ) "
   ]
  },
  {
   "cell_type": "code",
   "execution_count": 20,
   "metadata": {},
   "outputs": [
    {
     "data": {
      "text/plain": [
       "1492"
      ]
     },
     "execution_count": 20,
     "metadata": {},
     "output_type": "execute_result"
    }
   ],
   "source": [
    "from operator import length_hint\n",
    "length_hint(pattern_entries)"
   ]
  },
  {
   "cell_type": "code",
   "execution_count": null,
   "metadata": {},
   "outputs": [],
   "source": [
    "# for id, _ in train.iterrows():\n",
    "\n",
    "#     lb = _['label']\n",
    "#     txt = _['text']\n",
    "\n",
    "#     extractor = switch_extractor(lb)\n",
    "             \n",
    "#     nerpack = nerpa.NERpack()\n",
    "#     nerpack.add_marks(extractor(txt))\n",
    "    \n",
    "#     nerpack.show(txt)\n",
    "#     print(nerpack.entities) \n",
    "\n",
    "#     print(nerpack.markstr() + '\\n')    #   show mark's tags "
   ]
  },
  {
   "cell_type": "code",
   "execution_count": null,
   "metadata": {},
   "outputs": [],
   "source": [
    "# from natasha import (\n",
    "#     Segmenter,\n",
    "#     MorphVocab,\n",
    "\n",
    "#     NewsEmbedding,\n",
    "#     NewsMorphTagger,\n",
    "#     NewsSyntaxParser,\n",
    "#     MoneyExtractor,\n",
    "#     Doc\n",
    "\n",
    "# )\n",
    "\n",
    "# from razdel import tokenize\n",
    "# from razdel import sentenize\n",
    "\n",
    "# tokens = list(tokenize(train[0]['text']))\n",
    "# for _ in tokens:\n",
    "#     print(i)\n",
    "\n",
    "\n",
    "# segmenter = Segmenter()\n",
    "# morph_vocab = MorphVocab()\n",
    "\n",
    "# emb = NewsEmbedding()\n",
    "# morph_tagger = NewsMorphTagger(emb)\n",
    "# syntax_parser = NewsSyntaxParser(emb)\n",
    "\n",
    "\n",
    "# text = text[spans[0].start:spans[-1].stop]\n",
    "# text = 'Способ обеспечения исполнения контракта, гарантийных обязательств'\n",
    "# doc = Doc(text)\n",
    "\n",
    "# doc.segment(segmenter)\n",
    "# doc.tag_morph(morph_tagger)\n",
    "# doc.parse_syntax(syntax_parser)\n",
    "\n",
    "# sent = doc.sents[0]\n",
    "# # sent.morph.print()\n",
    "\n",
    "\n",
    "# sent.syntax.print()"
   ]
  }
 ],
 "metadata": {
  "kernelspec": {
   "display_name": "base",
   "language": "python",
   "name": "python3"
  },
  "language_info": {
   "codemirror_mode": {
    "name": "ipython",
    "version": 3
   },
   "file_extension": ".py",
   "mimetype": "text/x-python",
   "name": "python",
   "nbconvert_exporter": "python",
   "pygments_lexer": "ipython3",
   "version": "3.10.9"
  },
  "orig_nbformat": 4
 },
 "nbformat": 4,
 "nbformat_minor": 2
}
