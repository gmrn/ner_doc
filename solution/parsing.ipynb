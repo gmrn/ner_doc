{
 "cells": [
  {
   "attachments": {},
   "cell_type": "markdown",
   "metadata": {},
   "source": [
    "#\n",
    "### **Парсер: подготовка данных**"
   ]
  },
  {
   "cell_type": "code",
   "execution_count": 31,
   "metadata": {},
   "outputs": [],
   "source": [
    "import dataframe as df\n",
    "\n",
    "path = 'data/train.json'\n",
    "label1 = df.get_label1()\n",
    "label2 = df.get_label2()"
   ]
  },
  {
   "cell_type": "code",
   "execution_count": 32,
   "metadata": {},
   "outputs": [
    {
     "data": {
      "text/html": [
       "<div>\n",
       "<style scoped>\n",
       "    .dataframe tbody tr th:only-of-type {\n",
       "        vertical-align: middle;\n",
       "    }\n",
       "\n",
       "    .dataframe tbody tr th {\n",
       "        vertical-align: top;\n",
       "    }\n",
       "\n",
       "    .dataframe thead th {\n",
       "        text-align: right;\n",
       "    }\n",
       "</style>\n",
       "<table border=\"1\" class=\"dataframe\">\n",
       "  <thead>\n",
       "    <tr style=\"text-align: right;\">\n",
       "      <th></th>\n",
       "      <th>text</th>\n",
       "      <th>label</th>\n",
       "      <th>start</th>\n",
       "      <th>stop</th>\n",
       "      <th>search</th>\n",
       "    </tr>\n",
       "    <tr>\n",
       "      <th>id</th>\n",
       "      <th></th>\n",
       "      <th></th>\n",
       "      <th></th>\n",
       "      <th></th>\n",
       "      <th></th>\n",
       "    </tr>\n",
       "  </thead>\n",
       "  <tbody>\n",
       "    <tr>\n",
       "      <th>809436509</th>\n",
       "      <td>Извещение о проведении открытого конкурса в эл...</td>\n",
       "      <td>обеспечение исполнения контракта</td>\n",
       "      <td>1279</td>\n",
       "      <td>1343</td>\n",
       "      <td>Размер обеспечения исполнения контракта 6593.2...</td>\n",
       "    </tr>\n",
       "    <tr>\n",
       "      <th>854885310</th>\n",
       "      <td>ТРЕБОВАНИЯ К СОДЕРЖАНИЮ ЗАЯВКИ участника запро...</td>\n",
       "      <td>обеспечение исполнения контракта</td>\n",
       "      <td>1222</td>\n",
       "      <td>1318</td>\n",
       "      <td>Поставщик должен предоставить обеспечение испо...</td>\n",
       "    </tr>\n",
       "    <tr>\n",
       "      <th>4382157</th>\n",
       "      <td>Извещение о проведении электронного аукциона д...</td>\n",
       "      <td>обеспечение исполнения контракта</td>\n",
       "      <td>1297</td>\n",
       "      <td>1343</td>\n",
       "      <td>Размер обеспечения исполнения контракта 10.00%</td>\n",
       "    </tr>\n",
       "    <tr>\n",
       "      <th>184555082</th>\n",
       "      <td>Извещение о проведении электронного аукциона д...</td>\n",
       "      <td>обеспечение исполнения контракта</td>\n",
       "      <td>1304</td>\n",
       "      <td>1350</td>\n",
       "      <td>Размер обеспечения исполнения контракта 10.00%</td>\n",
       "    </tr>\n",
       "    <tr>\n",
       "      <th>211645258</th>\n",
       "      <td>Извещение о проведении электронного аукциона д...</td>\n",
       "      <td>обеспечение исполнения контракта</td>\n",
       "      <td>1302</td>\n",
       "      <td>1348</td>\n",
       "      <td>Размер обеспечения исполнения контракта 10.00%</td>\n",
       "    </tr>\n",
       "  </tbody>\n",
       "</table>\n",
       "</div>"
      ],
      "text/plain": [
       "                                                        text  \\\n",
       "id                                                             \n",
       "809436509  Извещение о проведении открытого конкурса в эл...   \n",
       "854885310  ТРЕБОВАНИЯ К СОДЕРЖАНИЮ ЗАЯВКИ участника запро...   \n",
       "4382157    Извещение о проведении электронного аукциона д...   \n",
       "184555082  Извещение о проведении электронного аукциона д...   \n",
       "211645258  Извещение о проведении электронного аукциона д...   \n",
       "\n",
       "                                      label  start  stop  \\\n",
       "id                                                         \n",
       "809436509  обеспечение исполнения контракта   1279  1343   \n",
       "854885310  обеспечение исполнения контракта   1222  1318   \n",
       "4382157    обеспечение исполнения контракта   1297  1343   \n",
       "184555082  обеспечение исполнения контракта   1304  1350   \n",
       "211645258  обеспечение исполнения контракта   1302  1348   \n",
       "\n",
       "                                                      search  \n",
       "id                                                            \n",
       "809436509  Размер обеспечения исполнения контракта 6593.2...  \n",
       "854885310  Поставщик должен предоставить обеспечение испо...  \n",
       "4382157       Размер обеспечения исполнения контракта 10.00%  \n",
       "184555082     Размер обеспечения исполнения контракта 10.00%  \n",
       "211645258     Размер обеспечения исполнения контракта 10.00%  "
      ]
     },
     "execution_count": 32,
     "metadata": {},
     "output_type": "execute_result"
    }
   ],
   "source": [
    "data = df.reads_json(path)\n",
    "data.head()"
   ]
  },
  {
   "attachments": {},
   "cell_type": "markdown",
   "metadata": {},
   "source": [
    "#\n",
    "#### **false negative/positive errors**"
   ]
  },
  {
   "attachments": {},
   "cell_type": "markdown",
   "metadata": {},
   "source": [
    "Определяем записи по `extracted_part` с ответами и без"
   ]
  },
  {
   "cell_type": "code",
   "execution_count": 21,
   "metadata": {},
   "outputs": [],
   "source": [
    "len = data['stop'] - data['start']\n",
    "\n",
    "answ_on = data[len != 0].index\n",
    "answ_off = data[len == 0].index"
   ]
  },
  {
   "attachments": {},
   "cell_type": "markdown",
   "metadata": {},
   "source": [
    "Определяем ошибки 1 и 2 рода, где парсер нашел пункт, хотя ответа нет и где не нашел, но ответ есть\n",
    "\n",
    "В идеале оба массива ошибок должны быть пустыми, но в приоритете избавиться от ошибок типа *false negative* (II), так как мы сразу отбросим эти записи и больше не сможем с ними работать\n",
    "\n",
    "Ошибки типа *false positive* (I) могут отсеяться на следующих этапах парсинга"
   ]
  },
  {
   "cell_type": "code",
   "execution_count": 33,
   "metadata": {},
   "outputs": [],
   "source": [
    "from rules import CONTRACT, GUARANTEE\n",
    "from yargy import Parser\n",
    "\n",
    "parser1 = Parser(CONTRACT)\n",
    "parser2 = Parser(GUARANTEE)"
   ]
  },
  {
   "cell_type": "code",
   "execution_count": 34,
   "metadata": {},
   "outputs": [],
   "source": [
    "label_off = []  # search all labeloff docs\n",
    "\n",
    "for id, _ in data.iterrows():\n",
    "\n",
    "    lb =  _['label']\n",
    "    txt = _['text']\n",
    "\n",
    "    parser = parser1 if lb == label1 else parser2\n",
    "    match = parser.find(txt)\n",
    "\n",
    "    if not match:\n",
    "        label_off.append(id) "
   ]
  },
  {
   "cell_type": "code",
   "execution_count": 35,
   "metadata": {},
   "outputs": [],
   "source": [
    "label_on = [x for x in data.index \n",
    "            if x not in label_off]"
   ]
  },
  {
   "cell_type": "code",
   "execution_count": 36,
   "metadata": {},
   "outputs": [
    {
     "name": "stdout",
     "output_type": "stream",
     "text": [
      "[476192036, 588528614, 833988154, 219363951, 471097685, 14015810] []\n"
     ]
    }
   ],
   "source": [
    "errorsI = [x for x in label_on if x in answ_off]\n",
    "errorsII = [x for x in label_off if x in answ_on]\n",
    "\n",
    "print(errorsI, errorsII)"
   ]
  },
  {
   "attachments": {},
   "cell_type": "markdown",
   "metadata": {},
   "source": [
    "Корректируем правила для [labels](rules/label.py)\n",
    "\n",
    "```python\n",
    "CONTRACT = rule(\n",
    "    or_(\n",
    "        normalized('обеспечение'),\n",
    "        normalized('исполнение'),\n",
    "    ).repeatable(),\n",
    "    normalized('настоящий').optional(),\n",
    "    or_(\n",
    "        normalized('контракт'),\n",
    "        normalized('договор'),\n",
    "    )\n",
    ")\n",
    "```"
   ]
  },
  {
   "cell_type": "code",
   "execution_count": 23,
   "metadata": {},
   "outputs": [],
   "source": [
    "#      >>>execute 4th, 5th code cells"
   ]
  },
  {
   "attachments": {},
   "cell_type": "markdown",
   "metadata": {},
   "source": [
    "Убираем из датасета записи, где парсер не нашел нужный лэйбл"
   ]
  },
  {
   "cell_type": "code",
   "execution_count": 37,
   "metadata": {},
   "outputs": [
    {
     "data": {
      "text/plain": [
       "(1498, 5)"
      ]
     },
     "execution_count": 37,
     "metadata": {},
     "output_type": "execute_result"
    }
   ],
   "source": [
    "data = data.loc[label_on]\n",
    "data.shape"
   ]
  },
  {
   "attachments": {},
   "cell_type": "markdown",
   "metadata": {},
   "source": [
    "#\n",
    "#### **NER: поиск дополнительных тэгов**\n",
    "\n",
    "`Extractor nerpa` сделан на [yargy](https://github.com/natasha/yargy), подсветка реализована с помощью [ipymarkup](https://github.com/natasha/ipymarkup).\n",
    "Все инструменты из open source проекта `natasha`  "
   ]
  },
  {
   "cell_type": "code",
   "execution_count": 38,
   "metadata": {},
   "outputs": [],
   "source": [
    "import nerpa\n",
    "from rules import(\n",
    "    Contract, Guarantee,\n",
    "    Amount,\n",
    "    Addition\n",
    ")"
   ]
  },
  {
   "cell_type": "code",
   "execution_count": 39,
   "metadata": {},
   "outputs": [],
   "source": [
    "extractor1 = nerpa.Extractor([Contract, \n",
    "                              Amount, \n",
    "                              Addition]\n",
    "                            )\n",
    "extractor2 = nerpa.Extractor([Guarantee, \n",
    "                              Amount, \n",
    "                              Addition]\n",
    "                            )\n",
    "\n",
    "def switch_extractor(label):\n",
    "    return extractor1 if label == label1 else extractor2"
   ]
  },
  {
   "cell_type": "code",
   "execution_count": 24,
   "metadata": {},
   "outputs": [],
   "source": [
    "import dataframe as df\n",
    "\n",
    "path = 'data/train.json'\n",
    "\n",
    "\n",
    "data = df.reads_json(path, extracted_part=False)\n",
    "\n",
    "label_off = [21387522, 988512459, 576814118, 33321982, 870221477, 841199412, 659636986, 530135745, 103381269, 774423675, 767518830, 84333860, 842259306, 568278777, 398016768, 247509154, 186227613, 742758410, 41858643, 279678657, 641564028, 899079794, 883593150, 566870066, 218092753, 633942681, 348860902, 504104789, 310575279, 416901600, 480448230, 379814163, 722054566, 321458781, 898595603, 464383825, 195226664, 780443903, 589056981, 410875162, 374366795, 247159152, 89682092, 657384927, 425520652, 159399266, 482313075, 894571448, 67082098, 254389104, 902797643, 123213155, 793891511, 988693551, 490969848, 574894248, 58876711, 481449707, 931962258, 394540200, 462277146, 384224571, 695164638, 908753490, 977032556, 323658138, 933595516, 383798572, 586645301, 30076414, 966458400, 816725356, 163655004, 359802858, 689018053, 877239444, 175884542, 487971169, 895055033, 701794530, 314181537, 457049634, 301667980, 102249797, 390988811, 203664165, 214648417, 150243287, 85524565, 633704262, 327661343, 884320964, 175966212, 325780003, 252638411, 95089965, 499694856, 491030460, 705282233, 978164618, 908780351, 777830838, 62494133, 184429686, 960701326, 328251163, 376171914, 287889263, 758238915, 800036488, 808739861, 589396852, 821740539, 683436950, 889631488, 449432350, 421175213, 750578324, 853848068, 558092963, 503906217, 640524438, 573061698, 521050542, 94961499, 860644451, 154786355, 59733154, 445125138, 74345292, 191213064, 353223249, 558319334, 568949681, 710378801, 897474405, 228483166, 521227314, 937713785, 576330245, 383357205, 954175818, 168223198, 648724951, 472239980, 744167309, 856330320, 604894431, 61237725, 825877886,\n",
    "             814561214, 114758421, 885471240, 753877092, 728877463, 564086098, 556024184, 880506700, 689412582, 423787183, 484115071, 747317433, 189772990, 155043411, 262719817, 784758104, 693419707, 484398444, 259008463, 975974006, 688576534, 27864617, 966996823, 338987269, 598266674, 561237319, 227123674, 370408517, 158397066, 546365142, 580361221, 496636639, 503051655, 705839048, 201509913, 928033358, 37186938, 427883942, 892721516, 843472863, 314228254, 654942446, 79764055, 266572819, 696588941, 485503185, 841385708, 240757843, 971288916, 496154367, 926782072, 918234141, 30093679, 56336706, 866396752, 100721352, 695326447, 259352116, 541345914, 533170647, 830754475, 297024744, 465552654, 700398177, 53349068, 163876804, 762481292, 785021421, 888990974, 719126687, 32394515, 592144870, 303984403, 706280324, 415524602, 932088635, 236293110, 944535517, 880802714, 605248511, 528966580, 961697129, 615066621, 686005102, 477741501, 682728869, 799538669, 263036851, 303693485, 720376558, 909772075, 673444485, 677793788, 911698012, 871916176, 660980540, 800859874, 360944883, 416279128, 917231113, 387377068, 998879542, 555083461, 685751564, 291713866, 281148396, 265383438, 848887402, 968130729, 711430708, 920883070, 312286816, 110092843, 958537814, 340078714, 540120178, 643589590, 940359335, 855412825, 903923266, 765979602, 945573559, 460300374, 571309346, 160915063, 125157783, 14785464, 256399317, 408331151, 673034280, 576628577, 977930644, 250923192, 613094776, 828659340, 390815281, 300790544, 289894159, 522101245, 627854560, 588286734, 800430498, 285239088, 686209257, 360349411, 396622857, 58251022, 214609521, 94811748, 903507299, 926039184]\n",
    "\n",
    "label_on = [x for x in data.index if x not in label_off]\n",
    "data = data.loc[label_on]\n",
    "\n",
    "label1 = df.get_label1()\n",
    "label2 = df.get_label2()\n"
   ]
  },
  {
   "cell_type": "code",
   "execution_count": 40,
   "metadata": {},
   "outputs": [
    {
     "name": "stdout",
     "output_type": "stream",
     "text": [
      "['label2', 'amount', 'addition']\n",
      "22ADD2₽22ADD222222\n"
     ]
    },
    {
     "data": {
      "text/html": [
       "<div class=\"tex2jax_ignore\" style=\"white-space: pre-wrap\"><span style=\"padding: 2px; border-radius: 4px; border: 1px solid #ffe0b2; background: #fff3e0\">Обеспечение гарантийных обязательств<span style=\"vertical-align: middle; margin-left: 2px; font-size: 0.7em; color: #ffb74d;\">2</span></span> Требуется <span style=\"padding: 2px; border-radius: 4px; border: 1px solid #ffe0b2; background: #fff3e0\">обеспечение гарантийных обязательств<span style=\"vertical-align: middle; margin-left: 2px; font-size: 0.7em; color: #ffb74d;\">2</span></span> <span style=\"padding: 2px; border-radius: 4px; border: 1px solid #bbdefb; background: #e3f2fd\">Размер<span style=\"vertical-align: middle; margin-left: 2px; font-size: 0.7em; color: #64b5f6;\">ADD</span></span> <span style=\"padding: 2px; border-radius: 4px; border: 1px solid #ffe0b2; background: #fff3e0\">обеспечения гарантийных обязательств<span style=\"vertical-align: middle; margin-left: 2px; font-size: 0.7em; color: #ffb74d;\">2</span></span> <span style=\"padding: 2px; border-radius: 4px; border: 1px solid #c8e6c9; background: #e8f5e9\">1597.60 Российский рубль<span style=\"vertical-align: middle; margin-left: 2px; font-size: 0.7em; color: #66bb6a;\">₽</span></span> Порядок предоставления <span style=\"padding: 2px; border-radius: 4px; border: 1px solid #ffe0b2; background: #fff3e0\">обеспечения гарантийных обязательств<span style=\"vertical-align: middle; margin-left: 2px; font-size: 0.7em; color: #ffb74d;\">2</span></span>, требования к обеспечению Порядок и срок предоставления <span style=\"padding: 2px; border-radius: 4px; border: 1px solid #ffe0b2; background: #fff3e0\">обеспечения исполнения гарантийных обязательств<span style=\"vertical-align: middle; margin-left: 2px; font-size: 0.7em; color: #ffb74d;\">2</span></span> (применяется только в случае установления в Проекте контракта гарантии качества товара, работы, услуги и установления в настоящем извещении <span style=\"padding: 2px; border-radius: 4px; border: 1px solid #bbdefb; background: #e3f2fd\">размера<span style=\"vertical-align: middle; margin-left: 2px; font-size: 0.7em; color: #64b5f6;\">ADD</span></span> <span style=\"padding: 2px; border-radius: 4px; border: 1px solid #ffe0b2; background: #fff3e0\">обеспечения гарантийных обязательств<span style=\"vertical-align: middle; margin-left: 2px; font-size: 0.7em; color: #ffb74d;\">2</span></span>). <span style=\"padding: 2px; border-radius: 4px; border: 1px solid #ffe0b2; background: #fff3e0\">Исполнение гарантийных обязательств<span style=\"vertical-align: middle; margin-left: 2px; font-size: 0.7em; color: #ffb74d;\">2</span></span> может обеспечиваться предоставлением независимой гарантии, выданной в соответствии с требованиями ст.45 № 44-ФЗ, или внесением денежных средств на счет Заказчика по реквизитам, на которые в соответствии с настоящим контрактом перечисляются денежные средства в качестве обеспечения исполнения контракта, с обязательным указанием соответствующего назначения платежа в платежном поручении. Способ <span style=\"padding: 2px; border-radius: 4px; border: 1px solid #ffe0b2; background: #fff3e0\">обеспечения гарантийных обязательств<span style=\"vertical-align: middle; margin-left: 2px; font-size: 0.7em; color: #ffb74d;\">2</span></span>, срок действия независимой гарантии определяются в соответствии с требованиями закона 44-ФЗ Поставщиком (подрядчиком, исполнителем) самостоятельно. При этом срок действия независимо Поставщик (подрядчик, исполнитель) вправе изменить способ <span style=\"padding: 2px; border-radius: 4px; border: 1px solid #ffe0b2; background: #fff3e0\">обеспечения гарантийных обязательств<span style=\"vertical-align: middle; margin-left: 2px; font-size: 0.7em; color: #ffb74d;\">2</span></span> и (или) предоставить заказчику взамен ранее предоставленного <span style=\"padding: 2px; border-radius: 4px; border: 1px solid #ffe0b2; background: #fff3e0\">обеспечения гарантийных обязательств<span style=\"vertical-align: middle; margin-left: 2px; font-size: 0.7em; color: #ffb74d;\">2</span></span> новое <span style=\"padding: 2px; border-radius: 4px; border: 1px solid #ffe0b2; background: #fff3e0\">обеспечение гарантийных обязательств<span style=\"vertical-align: middle; margin-left: 2px; font-size: 0.7em; color: #ffb74d;\">2</span></span></div>"
      ],
      "text/plain": [
       "<IPython.core.display.HTML object>"
      ]
     },
     "metadata": {},
     "output_type": "display_data"
    },
    {
     "name": "stdout",
     "output_type": "stream",
     "text": [
      "['label1', 'amount', 'addition']\n",
      "ADD11ADD111ADD1₽11\n"
     ]
    },
    {
     "data": {
      "text/html": [
       "<div class=\"tex2jax_ignore\" style=\"white-space: pre-wrap\"><span style=\"padding: 2px; border-radius: 4px; border: 1px solid #bbdefb; background: #e3f2fd\">Сумма<span style=\"vertical-align: middle; margin-left: 2px; font-size: 0.7em; color: #64b5f6;\">ADD</span></span> на последующие годы 145739.95 145739.95 0.00 0.00 0.00 Этапы <span style=\"padding: 2px; border-radius: 4px; border: 1px solid #ffcdd2; background: #ffebee\">исполнения контракта<span style=\"vertical-align: middle; margin-left: 2px; font-size: 0.7em; color: #e57373;\">1</span></span> Контракт не разделен на этапы <span style=\"padding: 2px; border-radius: 4px; border: 1px solid #ffcdd2; background: #ffebee\">исполнения контракта<span style=\"vertical-align: middle; margin-left: 2px; font-size: 0.7em; color: #e57373;\">1</span></span> Финансирование за счет бюджетных средств Код бюджетной классификации Российской Федерации <span style=\"padding: 2px; border-radius: 4px; border: 1px solid #bbdefb; background: #e3f2fd\">Сумма<span style=\"vertical-align: middle; margin-left: 2px; font-size: 0.7em; color: #64b5f6;\">ADD</span></span> контракта (в валюте контракта) на 2022 год на 2023 год на 2024 год на 2025 год 1 2 3 4 5 555010480001М2044242 145739.95 0 0 0 Итого 145739.95 0.00 0.00 0.00 Место поставки товара, выполнения работы или оказания услуги Российская Федерация, Челябинская обл, Челябинск г, ул. Богдана Хмельницкого, дом 6, помещение Администрации Металлургического района, кабинет 10 Предусмотрена возможность одностороннего отказа от <span style=\"padding: 2px; border-radius: 4px; border: 1px solid #ffcdd2; background: #ffebee\">исполнения контракта<span style=\"vertical-align: middle; margin-left: 2px; font-size: 0.7em; color: #e57373;\">1</span></span> в соответствии со ст. 95 Закона № 44-ФЗ Да Обеспечение заявки Обеспечение заявок не требуется <span style=\"padding: 2px; border-radius: 4px; border: 1px solid #ffcdd2; background: #ffebee\">Обеспечение исполнения контракта<span style=\"vertical-align: middle; margin-left: 2px; font-size: 0.7em; color: #e57373;\">1</span></span> Требуется <span style=\"padding: 2px; border-radius: 4px; border: 1px solid #ffcdd2; background: #ffebee\">обеспечение исполнения контракта<span style=\"vertical-align: middle; margin-left: 2px; font-size: 0.7em; color: #e57373;\">1</span></span> <span style=\"padding: 2px; border-radius: 4px; border: 1px solid #bbdefb; background: #e3f2fd\">Размер<span style=\"vertical-align: middle; margin-left: 2px; font-size: 0.7em; color: #64b5f6;\">ADD</span></span> <span style=\"padding: 2px; border-radius: 4px; border: 1px solid #ffcdd2; background: #ffebee\">обеспечения исполнения контракта<span style=\"vertical-align: middle; margin-left: 2px; font-size: 0.7em; color: #e57373;\">1</span></span> <span style=\"padding: 2px; border-radius: 4px; border: 1px solid #c8e6c9; background: #e8f5e9\">29147.99 Российский рубль<span style=\"vertical-align: middle; margin-left: 2px; font-size: 0.7em; color: #66bb6a;\">₽</span></span> Порядок <span style=\"padding: 2px; border-radius: 4px; border: 1px solid #ffcdd2; background: #ffebee\">обеспечения исполнения контракта<span style=\"vertical-align: middle; margin-left: 2px; font-size: 0.7em; color: #e57373;\">1</span></span>, требования к обеспечению Согласно приложению к извещению &quot;Приложение к извещению (<span style=\"padding: 2px; border-radius: 4px; border: 1px solid #ffcdd2; background: #ffebee\">обеспечение контракта<span style=\"vertical-align: middle; margin-left: 2px; font-size: 0.7em; color: #e57373;\">1</span></span></div>"
      ],
      "text/plain": [
       "<IPython.core.display.HTML object>"
      ]
     },
     "metadata": {},
     "output_type": "display_data"
    },
    {
     "name": "stdout",
     "output_type": "stream",
     "text": [
      "['label1', 'amount', 'addition']\n",
      "11ADD₽1111\n"
     ]
    },
    {
     "data": {
      "text/html": [
       "<div class=\"tex2jax_ignore\" style=\"white-space: pre-wrap\"><span style=\"padding: 2px; border-radius: 4px; border: 1px solid #ffcdd2; background: #ffebee\">обеспечение исполнения обязательств<span style=\"vertical-align: middle; margin-left: 2px; font-size: 0.7em; color: #e57373;\">1</span></span> по Контракту в период действия Контракта. 1.4. Подрядчик обязуется выполнить все работы, предусмотренные контрактом, по Объекту, указанному в п.1.1 Контракта в соответствии с условиями Технического задания (Приложение № 1 к Контракту). 1.5. Заказчиком установлено требование <span style=\"padding: 2px; border-radius: 4px; border: 1px solid #ffcdd2; background: #ffebee\">обеспечения исполнения контракта<span style=\"vertical-align: middle; margin-left: 2px; font-size: 0.7em; color: #e57373;\">1</span></span> в <span style=\"padding: 2px; border-radius: 4px; border: 1px solid #bbdefb; background: #e3f2fd\">размере<span style=\"vertical-align: middle; margin-left: 2px; font-size: 0.7em; color: #64b5f6;\">ADD</span></span> <span style=\"padding: 2px; border-radius: 4px; border: 1px solid #c8e6c9; background: #e8f5e9\">10 процентов<span style=\"vertical-align: middle; margin-left: 2px; font-size: 0.7em; color: #66bb6a;\">₽</span></span> от цены контракта, что составляет: _______________________. Подрядчик при заключении Контракта предоставляет Заказчику <span style=\"padding: 2px; border-radius: 4px; border: 1px solid #ffcdd2; background: #ffebee\">обеспечение исполнения Контракта<span style=\"vertical-align: middle; margin-left: 2px; font-size: 0.7em; color: #e57373;\">1</span></span> в соответствии с требованиями Закона о контрактной системе и настоящего контракта. Контракт заключается после предоставления Подрядчиком <span style=\"padding: 2px; border-radius: 4px; border: 1px solid #ffcdd2; background: #ffebee\">обеспечения исполнения контракта<span style=\"vertical-align: middle; margin-left: 2px; font-size: 0.7em; color: #e57373;\">1</span></span>. Затраты по получению и применению обеспечительных мер несет Подрядчик. 1.6. <span style=\"padding: 2px; border-radius: 4px; border: 1px solid #ffcdd2; background: #ffebee\">Исполнение контракта<span style=\"vertical-align: middle; margin-left: 2px; font-size: 0.7em; color: #e57373;\">1</span></span>, гарантийные обязательства могут обеспечиваться предоставлением независимой гарантии, соответствующей требованиям статьи 45 Закона № 44-ФЗ, или внесением денежных средств на указанный заказчиком счет, на котором в соответствии с законодательством Российской Федерации учитываются операции со средствами, поступающими заказчику. Способ <span style=\"padding: 2px; border-radius: 4px; border: 1px solid #ffcdd2; background: #ffebee\">обеспечения исполнения контракта<span style=\"vertical-align: middle; margin-left: 2px; font-size: 0.7em; color: #e57373;\">1</span></span></div>"
      ],
      "text/plain": [
       "<IPython.core.display.HTML object>"
      ]
     },
     "metadata": {},
     "output_type": "display_data"
    }
   ],
   "source": [
    "for id, _ in data.iloc[62:65].iterrows():\n",
    "\n",
    "    lb = _['label']\n",
    "    txt = _['text']\n",
    "\n",
    "    extractor = switch_extractor(lb)\n",
    "             \n",
    "    nerpack = nerpa.NERpack()\n",
    "    nerpack.add_marks(extractor(txt))\n",
    "    print(nerpack.entities) \n",
    "    print(nerpack.markstr())    #   show mark's tags \n",
    "    nerpack.show(txt)\n"
   ]
  },
  {
   "cell_type": "code",
   "execution_count": null,
   "metadata": {},
   "outputs": [],
   "source": [
    "# remake by yargy\n",
    "#\n",
    "#\n",
    "#\n",
    "amount_off = []\n",
    "\n",
    "for id, _ in data.iterrows():\n",
    "\n",
    "    lb = _['label']\n",
    "    txt = _['text']\n",
    "             \n",
    "    extractor = switch_extractor(lb)\n",
    "    nerpack = nerpa.NERpack()\n",
    "    nerpack.add_marks(extractor(txt))\n",
    "    \n",
    "    if 'amount' not in nerpack.entities:\n",
    "        amount_off.append(id)\n",
    "        print(id)\n",
    "        nerpack.show_full(txt)"
   ]
  },
  {
   "cell_type": "code",
   "execution_count": null,
   "metadata": {},
   "outputs": [],
   "source": [
    "amount_off == errorsI"
   ]
  },
  {
   "cell_type": "code",
   "execution_count": 18,
   "metadata": {},
   "outputs": [],
   "source": [
    "data = data.drop(data.loc[amount_off].index)\n",
    "data.shape"
   ]
  },
  {
   "cell_type": "code",
   "execution_count": 21,
   "metadata": {},
   "outputs": [],
   "source": [
    "import re\n",
    "def find_entries(markstr, pattern):\n",
    "    return [_.start() for _ in re.finditer(\n",
    "                                    pattern, \n",
    "                                    markstr\n",
    "                                    )] "
   ]
  },
  {
   "cell_type": "code",
   "execution_count": 22,
   "metadata": {},
   "outputs": [],
   "source": [
    "patterns = ['ADD1₽', '1ADD₽']"
   ]
  },
  {
   "cell_type": "code",
   "execution_count": null,
   "metadata": {},
   "outputs": [],
   "source": [
    "for id, _ in data.iterrows():\n",
    "\n",
    "    lb = _['label']\n",
    "    txt = _['text']\n",
    "             \n",
    "    extractor = switch_extractor(lb)\n",
    "    nerpack = nerpa.NERpack()\n",
    "    nerpack.add_marks(extractor(txt))\n",
    "    markstr = nerpack.markstr().replace('2', '1')\n",
    "\n",
    "    # if markstr:\n",
    "    #     entry_up.append(markstr)\n",
    "    # else:\n",
    "    #     entry_off.append(id)"
   ]
  },
  {
   "cell_type": "code",
   "execution_count": 3,
   "metadata": {},
   "outputs": [],
   "source": [
    "from natasha import (\n",
    "    Segmenter,\n",
    "    MorphVocab,\n",
    "\n",
    "    NewsEmbedding,\n",
    "    NewsMorphTagger,\n",
    "    NewsSyntaxParser,\n",
    "    MoneyExtractor,\n",
    "    Doc\n",
    "\n",
    ")\n",
    "\n",
    "from razdel import tokenize\n",
    "from razdel import sentenize\n",
    "\n",
    "tokens = list(tokenize(data[0]['text']))\n",
    "for _ in tokens:\n",
    "    print(i)\n",
    "\n",
    "\n",
    "segmenter = Segmenter()\n",
    "morph_vocab = MorphVocab()\n",
    "\n",
    "emb = NewsEmbedding()\n",
    "morph_tagger = NewsMorphTagger(emb)\n",
    "syntax_parser = NewsSyntaxParser(emb)\n",
    "\n",
    "\n",
    "# text = text[spans[0].start:spans[-1].stop]\n",
    "# text = 'Способ обеспечения исполнения контракта, гарантийных обязательств'\n",
    "# doc = Doc(text)\n",
    "\n",
    "# doc.segment(segmenter)\n",
    "# doc.tag_morph(morph_tagger)\n",
    "# doc.parse_syntax(syntax_parser)\n",
    "\n",
    "# sent = doc.sents[0]\n",
    "# # sent.morph.print()\n",
    "\n",
    "\n",
    "# sent.syntax.print()"
   ]
  }
 ],
 "metadata": {
  "kernelspec": {
   "display_name": "base",
   "language": "python",
   "name": "python3"
  },
  "language_info": {
   "codemirror_mode": {
    "name": "ipython",
    "version": 3
   },
   "file_extension": ".py",
   "mimetype": "text/x-python",
   "name": "python",
   "nbconvert_exporter": "python",
   "pygments_lexer": "ipython3",
   "version": "3.10.9"
  },
  "orig_nbformat": 4
 },
 "nbformat": 4,
 "nbformat_minor": 2
}
