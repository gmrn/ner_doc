{
 "cells": [
  {
   "attachments": {},
   "cell_type": "markdown",
   "metadata": {},
   "source": [
    "#\n",
    "### **Парсер: подготовка данных**"
   ]
  },
  {
   "cell_type": "code",
   "execution_count": 1,
   "metadata": {},
   "outputs": [],
   "source": [
    "from pandas import read_csv \n",
    "from data.labels import labels\n",
    "\n",
    "\n",
    "path = 'data/'\n",
    "label1 = labels['label1']"
   ]
  },
  {
   "cell_type": "code",
   "execution_count": 2,
   "metadata": {},
   "outputs": [
    {
     "data": {
      "text/html": [
       "<div>\n",
       "<style scoped>\n",
       "    .dataframe tbody tr th:only-of-type {\n",
       "        vertical-align: middle;\n",
       "    }\n",
       "\n",
       "    .dataframe tbody tr th {\n",
       "        vertical-align: top;\n",
       "    }\n",
       "\n",
       "    .dataframe thead th {\n",
       "        text-align: right;\n",
       "    }\n",
       "</style>\n",
       "<table border=\"1\" class=\"dataframe\">\n",
       "  <thead>\n",
       "    <tr style=\"text-align: right;\">\n",
       "      <th></th>\n",
       "      <th>text</th>\n",
       "      <th>label</th>\n",
       "    </tr>\n",
       "    <tr>\n",
       "      <th>id</th>\n",
       "      <th></th>\n",
       "      <th></th>\n",
       "    </tr>\n",
       "  </thead>\n",
       "  <tbody>\n",
       "    <tr>\n",
       "      <th>809436509</th>\n",
       "      <td>Извещение о проведении открытого конкурса в эл...</td>\n",
       "      <td>обеспечение исполнения контракта</td>\n",
       "    </tr>\n",
       "    <tr>\n",
       "      <th>854885310</th>\n",
       "      <td>ТРЕБОВАНИЯ К СОДЕРЖАНИЮ ЗАЯВКИ участника запро...</td>\n",
       "      <td>обеспечение исполнения контракта</td>\n",
       "    </tr>\n",
       "    <tr>\n",
       "      <th>4382157</th>\n",
       "      <td>Извещение о проведении электронного аукциона д...</td>\n",
       "      <td>обеспечение исполнения контракта</td>\n",
       "    </tr>\n",
       "    <tr>\n",
       "      <th>184555082</th>\n",
       "      <td>Извещение о проведении электронного аукциона д...</td>\n",
       "      <td>обеспечение исполнения контракта</td>\n",
       "    </tr>\n",
       "    <tr>\n",
       "      <th>211645258</th>\n",
       "      <td>Извещение о проведении электронного аукциона д...</td>\n",
       "      <td>обеспечение исполнения контракта</td>\n",
       "    </tr>\n",
       "  </tbody>\n",
       "</table>\n",
       "</div>"
      ],
      "text/plain": [
       "                                                        text  \\\n",
       "id                                                             \n",
       "809436509  Извещение о проведении открытого конкурса в эл...   \n",
       "854885310  ТРЕБОВАНИЯ К СОДЕРЖАНИЮ ЗАЯВКИ участника запро...   \n",
       "4382157    Извещение о проведении электронного аукциона д...   \n",
       "184555082  Извещение о проведении электронного аукциона д...   \n",
       "211645258  Извещение о проведении электронного аукциона д...   \n",
       "\n",
       "                                      label  \n",
       "id                                           \n",
       "809436509  обеспечение исполнения контракта  \n",
       "854885310  обеспечение исполнения контракта  \n",
       "4382157    обеспечение исполнения контракта  \n",
       "184555082  обеспечение исполнения контракта  \n",
       "211645258  обеспечение исполнения контракта  "
      ]
     },
     "execution_count": 2,
     "metadata": {},
     "output_type": "execute_result"
    }
   ],
   "source": [
    "train = read_csv(path + 'train.csv', index_col='id')\n",
    "train.head()"
   ]
  },
  {
   "cell_type": "code",
   "execution_count": 3,
   "metadata": {},
   "outputs": [
    {
     "data": {
      "text/html": [
       "<div>\n",
       "<style scoped>\n",
       "    .dataframe tbody tr th:only-of-type {\n",
       "        vertical-align: middle;\n",
       "    }\n",
       "\n",
       "    .dataframe tbody tr th {\n",
       "        vertical-align: top;\n",
       "    }\n",
       "\n",
       "    .dataframe thead th {\n",
       "        text-align: right;\n",
       "    }\n",
       "</style>\n",
       "<table border=\"1\" class=\"dataframe\">\n",
       "  <thead>\n",
       "    <tr style=\"text-align: right;\">\n",
       "      <th></th>\n",
       "      <th>start</th>\n",
       "      <th>stop</th>\n",
       "      <th>search</th>\n",
       "    </tr>\n",
       "    <tr>\n",
       "      <th>id</th>\n",
       "      <th></th>\n",
       "      <th></th>\n",
       "      <th></th>\n",
       "    </tr>\n",
       "  </thead>\n",
       "  <tbody>\n",
       "    <tr>\n",
       "      <th>809436509</th>\n",
       "      <td>1279</td>\n",
       "      <td>1343</td>\n",
       "      <td>Размер обеспечения исполнения контракта 6593.2...</td>\n",
       "    </tr>\n",
       "    <tr>\n",
       "      <th>854885310</th>\n",
       "      <td>1222</td>\n",
       "      <td>1318</td>\n",
       "      <td>Поставщик должен предоставить обеспечение испо...</td>\n",
       "    </tr>\n",
       "    <tr>\n",
       "      <th>4382157</th>\n",
       "      <td>1297</td>\n",
       "      <td>1343</td>\n",
       "      <td>Размер обеспечения исполнения контракта 10.00%</td>\n",
       "    </tr>\n",
       "    <tr>\n",
       "      <th>184555082</th>\n",
       "      <td>1304</td>\n",
       "      <td>1350</td>\n",
       "      <td>Размер обеспечения исполнения контракта 10.00%</td>\n",
       "    </tr>\n",
       "    <tr>\n",
       "      <th>211645258</th>\n",
       "      <td>1302</td>\n",
       "      <td>1348</td>\n",
       "      <td>Размер обеспечения исполнения контракта 10.00%</td>\n",
       "    </tr>\n",
       "  </tbody>\n",
       "</table>\n",
       "</div>"
      ],
      "text/plain": [
       "           start  stop                                             search\n",
       "id                                                                       \n",
       "809436509   1279  1343  Размер обеспечения исполнения контракта 6593.2...\n",
       "854885310   1222  1318  Поставщик должен предоставить обеспечение испо...\n",
       "4382157     1297  1343     Размер обеспечения исполнения контракта 10.00%\n",
       "184555082   1304  1350     Размер обеспечения исполнения контракта 10.00%\n",
       "211645258   1302  1348     Размер обеспечения исполнения контракта 10.00%"
      ]
     },
     "execution_count": 3,
     "metadata": {},
     "output_type": "execute_result"
    }
   ],
   "source": [
    "tar = read_csv(path + 'target.csv', index_col='id')\n",
    "tar.head()"
   ]
  },
  {
   "attachments": {},
   "cell_type": "markdown",
   "metadata": {},
   "source": [
    "#\n",
    "#### **nerpa extractor**\n",
    "`Extractor nerpa` сделан на [yargy](https://github.com/natasha/yargy), подсветка реализована с помощью [ipymarkup](https://github.com/natasha/ipymarkup).\n",
    "Все инструменты из open source проекта `natasha`  "
   ]
  },
  {
   "cell_type": "code",
   "execution_count": 4,
   "metadata": {},
   "outputs": [],
   "source": [
    "import nerpa\n",
    "from rules.rules import(\n",
    "    Contract, Guarantee,\n",
    "    Amount,\n",
    "    Addition\n",
    ")\n",
    "\n",
    "exone = nerpa.Extractor(\n",
    "    [Contract, Amount, Addition])\n",
    "extwo = nerpa.Extractor(\n",
    "    [Guarantee, Amount, Addition])\n",
    "\n",
    "def switch_extractor(label):\n",
    "    return exone if label == label1 else extwo"
   ]
  },
  {
   "cell_type": "code",
   "execution_count": 5,
   "metadata": {},
   "outputs": [
    {
     "data": {
      "text/html": [
       "<div class=\"tex2jax_ignore\" style=\"white-space: pre-wrap\">Извещение о проведении открытого конкурса в электронной форме для закупки №0328300032822000806 Общая информация Номер извещения 0328300032822000806 Наименование объекта закупки Поставка продуктов питания Способ определения поставщика (подрядчика, исполнителя) Открытый конкурс в бль Порядок внесения денежных средств в качестве обеспечения заявки на участие в закупке, а также условия гарантии Обеспечение заявки на участие в закупке может предоставляться участником закупки в виде денежных средств или независимой гарантии, предусмотренной ст. 45 Федерального закона № 44-ФЗ. Выбор способа обеспечения осуществляется участником закупки самостоятельно. Срок действия независимой гарантии должен составлять не менее месяца с даты окончания срока подачи заявок. Обеспечение заявки на участие в закупке предоставляется в соответствии с ч. 5 ст. 44 Федерального закона № 44-ФЗ. Условия независимой гарантии в соответствии со ст. 45 Федерального закона № 44-ФЗ. Реквизиты счета в соответствии с п.16 ч. 1 ст. 42 Закона № 44-ФЗ &quot;Номер расчётного счёта&quot; 00000000000000000000 &quot;Номер лицевого счёта&quot; См. прилагаемые документы &quot;БИК&quot; 000000000 &quot;Наименование кредитной организации&quot; &quot;Номер корреспондентского счета&quot; <span style=\"padding: 2px; border-radius: 4px; border: 1px solid #bbdefb; background: #e3f2fd\">Обеспечение исполнения контракта<span style=\"vertical-align: middle; margin-left: 2px; font-size: 0.7em; color: #64b5f6;\">1</span></span> Требуется <span style=\"padding: 2px; border-radius: 4px; border: 1px solid #bbdefb; background: #e3f2fd\">обеспечение исполнения контракта<span style=\"vertical-align: middle; margin-left: 2px; font-size: 0.7em; color: #64b5f6;\">1</span></span> <span style=\"padding: 2px; border-radius: 4px; border: 1px solid #c8e6c9; background: #e8f5e9\">Размер<span style=\"vertical-align: middle; margin-left: 2px; font-size: 0.7em; color: #66bb6a;\">ADD</span></span> <span style=\"padding: 2px; border-radius: 4px; border: 1px solid #bbdefb; background: #e3f2fd\">обеспечения исполнения контракта<span style=\"vertical-align: middle; margin-left: 2px; font-size: 0.7em; color: #64b5f6;\">1</span></span> <span style=\"padding: 2px; border-radius: 4px; border: 1px solid #ffcdd2; background: #ffebee\">6593.25 Российский рубль<span style=\"vertical-align: middle; margin-left: 2px; font-size: 0.7em; color: #e57373;\">₽</span></span> Порядок <span style=\"padding: 2px; border-radius: 4px; border: 1px solid #bbdefb; background: #e3f2fd\">обеспечения исполнения контракта<span style=\"vertical-align: middle; margin-left: 2px; font-size: 0.7em; color: #64b5f6;\">1</span></span>, требования к <span style=\"padding: 2px; border-radius: 4px; border: 1px solid #bbdefb; background: #e3f2fd\">обеспечению Исполнение контракта<span style=\"vertical-align: middle; margin-left: 2px; font-size: 0.7em; color: #64b5f6;\">1</span></span>, гарантийные обязательства могут обеспечиваться предоставлением независимой гарантии, соответствующей требованиям ст. 45 Федерального закона № 44-ФЗ, или внесением денежных средств на указанный заказчиком счет, на котором в соответствии с законодательством Российской Федерации учитываются операции со средствами, поступающими заказчику. Способ <span style=\"padding: 2px; border-radius: 4px; border: 1px solid #bbdefb; background: #e3f2fd\">обеспечения исполнения контракта<span style=\"vertical-align: middle; margin-left: 2px; font-size: 0.7em; color: #64b5f6;\">1</span></span>, гарантийных обязательств, срок действия независимой гарантии определяются в соответствии с требованиями Федерального закона № 44-ФЗ участником закупки, с которым заключается контракт, самостоятельно. При этом срок действия независимой гарантии должен превышать предусмотренный контрактом срок <span style=\"padding: 2px; border-radius: 4px; border: 1px solid #bbdefb; background: #e3f2fd\">исполнения обязательств<span style=\"vertical-align: middle; margin-left: 2px; font-size: 0.7em; color: #64b5f6;\">1</span></span>, которые должны быть обеспечены такой независимой гарантией, не менее чем на один месяц, в том числе в случае его изменения в соответствии со ст. 95 Федерального закона № 44-ФЗ. Порядок предоставления и требования о Информация и документы, подтверждающие соответствие участников закупки дополнительным требованиям: 1) исполненный договор; 2) акт приемки оказанных услуг и (или) поставленных товаров, подтверждающий цену оказанных услуг и (или) поставленных товаров 4</div>"
      ],
      "text/plain": [
       "<IPython.core.display.HTML object>"
      ]
     },
     "metadata": {},
     "output_type": "display_data"
    },
    {
     "name": "stdout",
     "output_type": "stream",
     "text": [
      "[(1203, 1235, 'Обеспечение исполнения контракта', '1'), (1246, 1278, 'обеспечение исполнения контракта', '1'), (1279, 1285, 'Размер', 'ADD'), (1286, 1318, 'обеспечения исполнения контракта', '1'), (1319, 1343, '6593.25 Российский рубль', '₽'), (1352, 1384, 'обеспечения исполнения контракта', '1'), (1399, 1431, 'обеспечению Исполнение контракта', '1'), (1777, 1809, 'обеспечения исполнения контракта', '1'), (2104, 2127, 'исполнения обязательств', '1')]\n"
     ]
    }
   ],
   "source": [
    "for id, _ in train.iloc[:1].iterrows():\n",
    "\n",
    "    lb = _['label']\n",
    "    txt = _['text']\n",
    "\n",
    "    ex_ = switch_extractor(label=lb)\n",
    "             \n",
    "    nerpack = nerpa.NERpack()\n",
    "    nerpack.add_marks(\n",
    "        entities=ex_(txt), text=txt)\n",
    "    \n",
    "    nerpack.show_full(txt)\n",
    "    print(nerpack.marks)"
   ]
  },
  {
   "cell_type": "code",
   "execution_count": 6,
   "metadata": {},
   "outputs": [
    {
     "data": {
      "text/html": [
       "<div class=\"tex2jax_ignore\" style=\"white-space: pre-wrap\"><span style=\"padding: 2px; border-radius: 4px; border: 1px solid #c8e6c9; background: #e8f5e9\">Размер<span style=\"vertical-align: middle; margin-left: 2px; font-size: 0.7em; color: #66bb6a;\">ADD</span></span> обеспечения заявки <span style=\"padding: 2px; border-radius: 4px; border: 1px solid #ffcdd2; background: #ffebee\">6670.62 Российский рубль<span style=\"vertical-align: middle; margin-left: 2px; font-size: 0.7em; color: #e57373;\">₽</span></span> Порядок внесения денежных средств в качестве обеспечения заявки на участие в закупке, а также условия гарантии Обеспечение заявки на участие в аукционе может предоставляться участником закупки в виде денежных средств или независимой гарантии. Выбор способа обеспечения заявки на участие в аукционе осуществляется участником закупки. В соответствии со статьей 44 Федерального закона. Реквизиты счета в соответствии с п.16 ч. 1 ст. 42 Закона № 44-ФЗ &quot;Номер расчётного счёта&quot; 40101810335100010001 &quot;Номер лицевого счёта&quot; 04752202870 &quot;БИК&quot; 043510001 &quot;Наименование кредитной организации&quot; УФК по Республике Крым (Минздрав РК, л/с 04752202870) &quot;Номер корреспондентского счета&quot; <span style=\"padding: 2px; border-radius: 4px; border: 1px solid #bbdefb; background: #e3f2fd\">Обеспечение исполнения контракта<span style=\"vertical-align: middle; margin-left: 2px; font-size: 0.7em; color: #64b5f6;\">1</span></span> Требуется <span style=\"padding: 2px; border-radius: 4px; border: 1px solid #bbdefb; background: #e3f2fd\">обеспечение исполнения контракта<span style=\"vertical-align: middle; margin-left: 2px; font-size: 0.7em; color: #64b5f6;\">1</span></span> <span style=\"padding: 2px; border-radius: 4px; border: 1px solid #c8e6c9; background: #e8f5e9\">Размер<span style=\"vertical-align: middle; margin-left: 2px; font-size: 0.7em; color: #66bb6a;\">ADD</span></span> <span style=\"padding: 2px; border-radius: 4px; border: 1px solid #bbdefb; background: #e3f2fd\">обеспечения исполнения контракта<span style=\"vertical-align: middle; margin-left: 2px; font-size: 0.7em; color: #64b5f6;\">1</span></span> <span style=\"padding: 2px; border-radius: 4px; border: 1px solid #ffcdd2; background: #ffebee\">33353.10 Российский рубль<span style=\"vertical-align: middle; margin-left: 2px; font-size: 0.7em; color: #e57373;\">₽</span></span> Порядок <span style=\"padding: 2px; border-radius: 4px; border: 1px solid #bbdefb; background: #e3f2fd\">обеспечения исполнения контракта<span style=\"vertical-align: middle; margin-left: 2px; font-size: 0.7em; color: #64b5f6;\">1</span></span>, требования к обеспечению Поставщик до заключения Контракта предоставляет Заказчику <span style=\"padding: 2px; border-radius: 4px; border: 1px solid #bbdefb; background: #e3f2fd\">обеспечение исполнения Контракта<span style=\"vertical-align: middle; margin-left: 2px; font-size: 0.7em; color: #64b5f6;\">1</span></span></div>"
      ],
      "text/plain": [
       "<IPython.core.display.HTML object>"
      ]
     },
     "metadata": {},
     "output_type": "display_data"
    },
    {
     "name": "stdout",
     "output_type": "stream",
     "text": [
      "['label1', 'amount', 'addition']\n",
      "ADD₽11ADD1₽11\n",
      "\n"
     ]
    },
    {
     "data": {
      "text/html": [
       "<div class=\"tex2jax_ignore\" style=\"white-space: pre-wrap\"><span style=\"padding: 2px; border-radius: 4px; border: 1px solid #ffe0b2; background: #fff3e0\">Обеспечение гарантийных обязательств<span style=\"vertical-align: middle; margin-left: 2px; font-size: 0.7em; color: #ffb74d;\">2</span></span> Требуется <span style=\"padding: 2px; border-radius: 4px; border: 1px solid #ffe0b2; background: #fff3e0\">обеспечение гарантийных обязательств<span style=\"vertical-align: middle; margin-left: 2px; font-size: 0.7em; color: #ffb74d;\">2</span></span> <span style=\"padding: 2px; border-radius: 4px; border: 1px solid #c8e6c9; background: #e8f5e9\">Размер<span style=\"vertical-align: middle; margin-left: 2px; font-size: 0.7em; color: #66bb6a;\">ADD</span></span> <span style=\"padding: 2px; border-radius: 4px; border: 1px solid #ffe0b2; background: #fff3e0\">обеспечения гарантийных обязательств<span style=\"vertical-align: middle; margin-left: 2px; font-size: 0.7em; color: #ffb74d;\">2</span></span> <span style=\"padding: 2px; border-radius: 4px; border: 1px solid #ffcdd2; background: #ffebee\">1597.60 Российский рубль<span style=\"vertical-align: middle; margin-left: 2px; font-size: 0.7em; color: #e57373;\">₽</span></span> Порядок предоставления <span style=\"padding: 2px; border-radius: 4px; border: 1px solid #ffe0b2; background: #fff3e0\">обеспечения гарантийных обязательств<span style=\"vertical-align: middle; margin-left: 2px; font-size: 0.7em; color: #ffb74d;\">2</span></span>, требования к обеспечению Порядок и срок предоставления <span style=\"padding: 2px; border-radius: 4px; border: 1px solid #ffe0b2; background: #fff3e0\">обеспечения исполнения гарантийных обязательств<span style=\"vertical-align: middle; margin-left: 2px; font-size: 0.7em; color: #ffb74d;\">2</span></span> (применяется только в случае установления в Проекте контракта гарантии качества товара, работы, услуги и установления в настоящем извещении <span style=\"padding: 2px; border-radius: 4px; border: 1px solid #c8e6c9; background: #e8f5e9\">размера<span style=\"vertical-align: middle; margin-left: 2px; font-size: 0.7em; color: #66bb6a;\">ADD</span></span> <span style=\"padding: 2px; border-radius: 4px; border: 1px solid #ffe0b2; background: #fff3e0\">обеспечения гарантийных обязательств<span style=\"vertical-align: middle; margin-left: 2px; font-size: 0.7em; color: #ffb74d;\">2</span></span>). <span style=\"padding: 2px; border-radius: 4px; border: 1px solid #ffe0b2; background: #fff3e0\">Исполнение гарантийных обязательств<span style=\"vertical-align: middle; margin-left: 2px; font-size: 0.7em; color: #ffb74d;\">2</span></span> может обеспечиваться предоставлением независимой гарантии, выданной в соответствии с требованиями ст.45 № 44-ФЗ, или внесением денежных средств на счет Заказчика по реквизитам, на которые в соответствии с настоящим контрактом перечисляются денежные средства в качестве обеспечения исполнения контракта, с обязательным указанием соответствующего назначения платежа в платежном поручении. Способ <span style=\"padding: 2px; border-radius: 4px; border: 1px solid #ffe0b2; background: #fff3e0\">обеспечения гарантийных обязательств<span style=\"vertical-align: middle; margin-left: 2px; font-size: 0.7em; color: #ffb74d;\">2</span></span>, срок действия независимой гарантии определяются в соответствии с требованиями закона 44-ФЗ Поставщиком (подрядчиком, исполнителем) самостоятельно. При этом срок действия независимо Поставщик (подрядчик, исполнитель) вправе изменить способ <span style=\"padding: 2px; border-radius: 4px; border: 1px solid #ffe0b2; background: #fff3e0\">обеспечения гарантийных обязательств<span style=\"vertical-align: middle; margin-left: 2px; font-size: 0.7em; color: #ffb74d;\">2</span></span> и (или) предоставить заказчику взамен ранее предоставленного <span style=\"padding: 2px; border-radius: 4px; border: 1px solid #ffe0b2; background: #fff3e0\">обеспечения гарантийных обязательств<span style=\"vertical-align: middle; margin-left: 2px; font-size: 0.7em; color: #ffb74d;\">2</span></span> новое <span style=\"padding: 2px; border-radius: 4px; border: 1px solid #ffe0b2; background: #fff3e0\">обеспечение гарантийных обязательств<span style=\"vertical-align: middle; margin-left: 2px; font-size: 0.7em; color: #ffb74d;\">2</span></span></div>"
      ],
      "text/plain": [
       "<IPython.core.display.HTML object>"
      ]
     },
     "metadata": {},
     "output_type": "display_data"
    },
    {
     "name": "stdout",
     "output_type": "stream",
     "text": [
      "['label2', 'amount', 'addition']\n",
      "22ADD2₽22ADD222222\n",
      "\n"
     ]
    },
    {
     "data": {
      "text/html": [
       "<div class=\"tex2jax_ignore\" style=\"white-space: pre-wrap\"><span style=\"padding: 2px; border-radius: 4px; border: 1px solid #c8e6c9; background: #e8f5e9\">Сумма<span style=\"vertical-align: middle; margin-left: 2px; font-size: 0.7em; color: #66bb6a;\">ADD</span></span> на последующие годы 145739.95 145739.95 0.00 0.00 0.00 Этапы <span style=\"padding: 2px; border-radius: 4px; border: 1px solid #bbdefb; background: #e3f2fd\">исполнения контракта<span style=\"vertical-align: middle; margin-left: 2px; font-size: 0.7em; color: #64b5f6;\">1</span></span> Контракт не разделен на этапы <span style=\"padding: 2px; border-radius: 4px; border: 1px solid #bbdefb; background: #e3f2fd\">исполнения контракта<span style=\"vertical-align: middle; margin-left: 2px; font-size: 0.7em; color: #64b5f6;\">1</span></span> Финансирование за счет бюджетных средств Код бюджетной классификации Российской Федерации <span style=\"padding: 2px; border-radius: 4px; border: 1px solid #c8e6c9; background: #e8f5e9\">Сумма<span style=\"vertical-align: middle; margin-left: 2px; font-size: 0.7em; color: #66bb6a;\">ADD</span></span> контракта (в валюте контракта) на 2022 год на 2023 год на 2024 год на 2025 год 1 2 3 4 5 555010480001М2044242 145739.95 0 0 0 Итого 145739.95 0.00 0.00 0.00 Место поставки товара, выполнения работы или оказания услуги Российская Федерация, Челябинская обл, Челябинск г, ул. Богдана Хмельницкого, дом 6, помещение Администрации Металлургического района, кабинет 10 Предусмотрена возможность одностороннего отказа от <span style=\"padding: 2px; border-radius: 4px; border: 1px solid #bbdefb; background: #e3f2fd\">исполнения контракта<span style=\"vertical-align: middle; margin-left: 2px; font-size: 0.7em; color: #64b5f6;\">1</span></span> в соответствии со ст. 95 Закона № 44-ФЗ Да Обеспечение заявки Обеспечение заявок не требуется <span style=\"padding: 2px; border-radius: 4px; border: 1px solid #bbdefb; background: #e3f2fd\">Обеспечение исполнения контракта<span style=\"vertical-align: middle; margin-left: 2px; font-size: 0.7em; color: #64b5f6;\">1</span></span> Требуется <span style=\"padding: 2px; border-radius: 4px; border: 1px solid #bbdefb; background: #e3f2fd\">обеспечение исполнения контракта<span style=\"vertical-align: middle; margin-left: 2px; font-size: 0.7em; color: #64b5f6;\">1</span></span> <span style=\"padding: 2px; border-radius: 4px; border: 1px solid #c8e6c9; background: #e8f5e9\">Размер<span style=\"vertical-align: middle; margin-left: 2px; font-size: 0.7em; color: #66bb6a;\">ADD</span></span> <span style=\"padding: 2px; border-radius: 4px; border: 1px solid #bbdefb; background: #e3f2fd\">обеспечения исполнения контракта<span style=\"vertical-align: middle; margin-left: 2px; font-size: 0.7em; color: #64b5f6;\">1</span></span> <span style=\"padding: 2px; border-radius: 4px; border: 1px solid #ffcdd2; background: #ffebee\">29147.99 Российский рубль<span style=\"vertical-align: middle; margin-left: 2px; font-size: 0.7em; color: #e57373;\">₽</span></span> Порядок <span style=\"padding: 2px; border-radius: 4px; border: 1px solid #bbdefb; background: #e3f2fd\">обеспечения исполнения контракта<span style=\"vertical-align: middle; margin-left: 2px; font-size: 0.7em; color: #64b5f6;\">1</span></span>, требования к обеспечению Согласно приложению к извещению &quot;Приложение к извещению (<span style=\"padding: 2px; border-radius: 4px; border: 1px solid #bbdefb; background: #e3f2fd\">обеспечение контракта<span style=\"vertical-align: middle; margin-left: 2px; font-size: 0.7em; color: #64b5f6;\">1</span></span></div>"
      ],
      "text/plain": [
       "<IPython.core.display.HTML object>"
      ]
     },
     "metadata": {},
     "output_type": "display_data"
    },
    {
     "name": "stdout",
     "output_type": "stream",
     "text": [
      "['label1', 'amount', 'addition']\n",
      "ADD11ADD111ADD1₽11\n",
      "\n"
     ]
    }
   ],
   "source": [
    "for id, _ in train.iloc[61:64].iterrows():\n",
    "\n",
    "    lb = _['label']\n",
    "    txt = _['text']\n",
    "\n",
    "    ex_ = switch_extractor(label=lb)\n",
    "             \n",
    "    nerpack = nerpa.NERpack()\n",
    "    nerpack.add_marks(entities=ex_(txt))\n",
    "    \n",
    "    nerpack.show(txt)\n",
    "    print(nerpack.entities) \n",
    "    print(nerpack.markstr() + '\\n')    #   show mark's tags "
   ]
  },
  {
   "attachments": {},
   "cell_type": "markdown",
   "metadata": {},
   "source": [
    "#\n",
    "#### **false negative/positive errors**"
   ]
  },
  {
   "attachments": {},
   "cell_type": "markdown",
   "metadata": {},
   "source": [
    "Находим пустые записи в `extracted_part`"
   ]
  },
  {
   "cell_type": "code",
   "execution_count": 7,
   "metadata": {},
   "outputs": [],
   "source": [
    "length = tar['stop'] - tar['start']\n",
    "\n",
    "answ_on = tar[length != 0].index\n",
    "answ_off = tar[length == 0].index"
   ]
  },
  {
   "attachments": {},
   "cell_type": "markdown",
   "metadata": {},
   "source": [
    "Определяем ошибки 1 и 2 рода, где парсер нашел пункт, хотя ответа нет и где не нашел, но ответ есть\n",
    "\n",
    "В идеале оба массива ошибок должны быть пустыми, но в приоритете избавиться от ошибок типа *false negative* (II), так как мы сразу отбросим эти записи и больше не сможем с ними работать\n",
    "\n",
    "Ошибки типа *false positive* (I) могут отсеяться на следующих этапах парсинга"
   ]
  },
  {
   "cell_type": "code",
   "execution_count": 8,
   "metadata": {},
   "outputs": [],
   "source": [
    "one_check = nerpa.Extractor([Contract])\n",
    "two_check = nerpa.Extractor([Guarantee])"
   ]
  },
  {
   "cell_type": "code",
   "execution_count": 9,
   "metadata": {},
   "outputs": [],
   "source": [
    "label_off = []  # search all labeloff docs\n",
    "\n",
    "for id, _ in train.iterrows():\n",
    "\n",
    "    lb =  _['label']\n",
    "    txt = _['text']\n",
    "\n",
    "    extractor = (one_check \n",
    "                 if lb == label1 \n",
    "                 else two_check)\n",
    "\n",
    "    if extractor.empty(txt):\n",
    "        label_off.append(id) "
   ]
  },
  {
   "cell_type": "code",
   "execution_count": 10,
   "metadata": {},
   "outputs": [],
   "source": [
    "label_on = [x for x in train.index \n",
    "            if x not in label_off]"
   ]
  },
  {
   "cell_type": "code",
   "execution_count": 11,
   "metadata": {},
   "outputs": [
    {
     "name": "stdout",
     "output_type": "stream",
     "text": [
      "[476192036, 588528614, 833988154, 219363951, 471097685, 14015810] []\n"
     ]
    }
   ],
   "source": [
    "errorsI = [x for x in label_on if x in answ_off]\n",
    "errorsII = [x for x in label_off if x in answ_on]\n",
    "\n",
    "print(errorsI, errorsII)"
   ]
  },
  {
   "attachments": {},
   "cell_type": "markdown",
   "metadata": {},
   "source": [
    "Корректируем правила для [labels](rules/entities/label.py)\n",
    "\n",
    "```python\n",
    "CONTRACT = rule(\n",
    "    or_(\n",
    "        normalized('обеспечение'),\n",
    "        normalized('исполнение'),\n",
    "    ).repeatable(),\n",
    "    normalized('настоящий').optional(),\n",
    "    or_(\n",
    "        normalized('контракт'),\n",
    "        normalized('договор'),\n",
    "    )\n",
    ")\n",
    "```"
   ]
  },
  {
   "cell_type": "code",
   "execution_count": null,
   "metadata": {},
   "outputs": [],
   "source": [
    "#      >>>execute 4th, 5th code cells"
   ]
  },
  {
   "attachments": {},
   "cell_type": "markdown",
   "metadata": {},
   "source": [
    "Создаем новый датасет без записей, где экстрактор не смог извлечь лебл"
   ]
  },
  {
   "cell_type": "code",
   "execution_count": 12,
   "metadata": {},
   "outputs": [
    {
     "data": {
      "text/plain": [
       "(1498, 2)"
      ]
     },
     "execution_count": 12,
     "metadata": {},
     "output_type": "execute_result"
    }
   ],
   "source": [
    "data = train.loc[label_on]\n",
    "data.shape"
   ]
  },
  {
   "attachments": {},
   "cell_type": "markdown",
   "metadata": {},
   "source": [
    "#\n",
    "#### **Search answers**\n",
    "\n"
   ]
  },
  {
   "cell_type": "code",
   "execution_count": null,
   "metadata": {},
   "outputs": [],
   "source": [
    "amount_check = nerpa.Extractor([Amount])\n",
    "amount_off = []\n",
    "\n",
    "for id, _ in data.iterrows():\n",
    "    txt = _['text']     \n",
    "    if amount_check.empty(txt):\n",
    "        amount_off.append(id)"
   ]
  },
  {
   "cell_type": "code",
   "execution_count": null,
   "metadata": {},
   "outputs": [
    {
     "data": {
      "text/plain": [
       "True"
      ]
     },
     "execution_count": 14,
     "metadata": {},
     "output_type": "execute_result"
    }
   ],
   "source": [
    "amount_off == errorsI"
   ]
  },
  {
   "cell_type": "code",
   "execution_count": null,
   "metadata": {},
   "outputs": [
    {
     "data": {
      "text/plain": [
       "(1492, 2)"
      ]
     },
     "execution_count": 15,
     "metadata": {},
     "output_type": "execute_result"
    }
   ],
   "source": [
    "data= data.drop(data.loc[amount_off].index)\n",
    "data.shape"
   ]
  },
  {
   "cell_type": "code",
   "execution_count": 14,
   "metadata": {},
   "outputs": [],
   "source": [
    "def adapt_(entries, len):\n",
    "    return [(entry, entry+len) for entry in entries]"
   ]
  },
  {
   "cell_type": "code",
   "execution_count": 15,
   "metadata": {},
   "outputs": [],
   "source": [
    "import re\n",
    "def find_entries(patterns, str):\n",
    "    for __ in patterns:\n",
    "        entries = [_.start() for _ in re.finditer(__, str)]\n",
    "        if entries:\n",
    "            return adapt_(\n",
    "                entries=entries, len=len(__))\n",
    "    return entries"
   ]
  },
  {
   "cell_type": "code",
   "execution_count": 16,
   "metadata": {},
   "outputs": [],
   "source": [
    "patterns = ['11222', '1122', '112', '12']    \n",
    "#   '{1, 2, ADD}{1, 2, ADD}₽₽₽', '{1, 2, ADD}{1, 2, ADD}₽₽'\n",
    "#   '{1, 2, ADD}{1, 2, ADD}₽', '{1, 2, ADD}₽'"
   ]
  },
  {
   "cell_type": "code",
   "execution_count": 36,
   "metadata": {},
   "outputs": [],
   "source": [
    "data['entries'] = 0\n",
    "data['entries'] = data['entries'].astype('object')"
   ]
  },
  {
   "cell_type": "code",
   "execution_count": 37,
   "metadata": {},
   "outputs": [],
   "source": [
    "for id, _ in data.iterrows():\n",
    "\n",
    "    lb = _['label']\n",
    "    txt = _['text']\n",
    "             \n",
    "    ex_ = switch_extractor(label=lb)\n",
    "    nerpack = nerpa.NERpack()\n",
    "    nerpack.add_marks(entities=ex_(txt))\n",
    "    \n",
    "    markstr = (nerpack.markstr()\n",
    "                    .replace('2', '1')\n",
    "                    .replace('ADD', '1')\n",
    "                    .replace('₽', '2') \n",
    "                    )\n",
    "    data.at[id, 'entries'] = find_entries(\n",
    "        patterns=patterns, str=markstr)"
   ]
  },
  {
   "cell_type": "code",
   "execution_count": 45,
   "metadata": {},
   "outputs": [
    {
     "data": {
      "text/html": [
       "<div>\n",
       "<style scoped>\n",
       "    .dataframe tbody tr th:only-of-type {\n",
       "        vertical-align: middle;\n",
       "    }\n",
       "\n",
       "    .dataframe tbody tr th {\n",
       "        vertical-align: top;\n",
       "    }\n",
       "\n",
       "    .dataframe thead th {\n",
       "        text-align: right;\n",
       "    }\n",
       "</style>\n",
       "<table border=\"1\" class=\"dataframe\">\n",
       "  <thead>\n",
       "    <tr style=\"text-align: right;\">\n",
       "      <th></th>\n",
       "      <th>text</th>\n",
       "      <th>label</th>\n",
       "      <th>entries</th>\n",
       "    </tr>\n",
       "    <tr>\n",
       "      <th>id</th>\n",
       "      <th></th>\n",
       "      <th></th>\n",
       "      <th></th>\n",
       "    </tr>\n",
       "  </thead>\n",
       "  <tbody>\n",
       "    <tr>\n",
       "      <th>809436509</th>\n",
       "      <td>Извещение о проведении открытого конкурса в эл...</td>\n",
       "      <td>обеспечение исполнения контракта</td>\n",
       "      <td>[(2, 5)]</td>\n",
       "    </tr>\n",
       "    <tr>\n",
       "      <th>854885310</th>\n",
       "      <td>ТРЕБОВАНИЯ К СОДЕРЖАНИЮ ЗАЯВКИ участника запро...</td>\n",
       "      <td>обеспечение исполнения контракта</td>\n",
       "      <td>[(0, 3)]</td>\n",
       "    </tr>\n",
       "    <tr>\n",
       "      <th>4382157</th>\n",
       "      <td>Извещение о проведении электронного аукциона д...</td>\n",
       "      <td>обеспечение исполнения контракта</td>\n",
       "      <td>[(3, 6)]</td>\n",
       "    </tr>\n",
       "    <tr>\n",
       "      <th>184555082</th>\n",
       "      <td>Извещение о проведении электронного аукциона д...</td>\n",
       "      <td>обеспечение исполнения контракта</td>\n",
       "      <td>[(2, 5)]</td>\n",
       "    </tr>\n",
       "    <tr>\n",
       "      <th>211645258</th>\n",
       "      <td>Извещение о проведении электронного аукциона д...</td>\n",
       "      <td>обеспечение исполнения контракта</td>\n",
       "      <td>[(2, 5)]</td>\n",
       "    </tr>\n",
       "  </tbody>\n",
       "</table>\n",
       "</div>"
      ],
      "text/plain": [
       "                                                        text  \\\n",
       "id                                                             \n",
       "809436509  Извещение о проведении открытого конкурса в эл...   \n",
       "854885310  ТРЕБОВАНИЯ К СОДЕРЖАНИЮ ЗАЯВКИ участника запро...   \n",
       "4382157    Извещение о проведении электронного аукциона д...   \n",
       "184555082  Извещение о проведении электронного аукциона д...   \n",
       "211645258  Извещение о проведении электронного аукциона д...   \n",
       "\n",
       "                                      label   entries  \n",
       "id                                                     \n",
       "809436509  обеспечение исполнения контракта  [(2, 5)]  \n",
       "854885310  обеспечение исполнения контракта  [(0, 3)]  \n",
       "4382157    обеспечение исполнения контракта  [(3, 6)]  \n",
       "184555082  обеспечение исполнения контракта  [(2, 5)]  \n",
       "211645258  обеспечение исполнения контракта  [(2, 5)]  "
      ]
     },
     "execution_count": 45,
     "metadata": {},
     "output_type": "execute_result"
    }
   ],
   "source": [
    "data.head()"
   ]
  },
  {
   "cell_type": "code",
   "execution_count": 49,
   "metadata": {},
   "outputs": [],
   "source": [
    "data['start'] = 0\n",
    "data['stop'] = 0"
   ]
  },
  {
   "cell_type": "code",
   "execution_count": 59,
   "metadata": {},
   "outputs": [],
   "source": [
    "multyentry = []\n",
    "for id, _ in data.iterrows():\n",
    "\n",
    "    lb = _['label']\n",
    "    txt = _['text']\n",
    "    entries = _['entries']\n",
    "\n",
    "    if not entries:\n",
    "        continue\n",
    "    \n",
    "    ex_ = switch_extractor(label=lb)\n",
    "    nerpack = nerpa.NERpack()\n",
    "    nerpack.add_marks(entities=ex_(txt))\n",
    "    marks = nerpack.marks\n",
    "    entries = _['entries']\n",
    "\n",
    "    if len(entries) == 1:\n",
    "        entry = entries[0]\n",
    "        data.at[id, 'start'] = marks[entry[0]].start\n",
    "        data.at[id, 'stop'] = marks[entry[1] - 1].stop\n",
    "    else:\n",
    "        multyentry.append(id)"
   ]
  },
  {
   "cell_type": "code",
   "execution_count": 60,
   "metadata": {},
   "outputs": [
    {
     "data": {
      "text/html": [
       "<div>\n",
       "<style scoped>\n",
       "    .dataframe tbody tr th:only-of-type {\n",
       "        vertical-align: middle;\n",
       "    }\n",
       "\n",
       "    .dataframe tbody tr th {\n",
       "        vertical-align: top;\n",
       "    }\n",
       "\n",
       "    .dataframe thead th {\n",
       "        text-align: right;\n",
       "    }\n",
       "</style>\n",
       "<table border=\"1\" class=\"dataframe\">\n",
       "  <thead>\n",
       "    <tr style=\"text-align: right;\">\n",
       "      <th></th>\n",
       "      <th>text</th>\n",
       "      <th>label</th>\n",
       "      <th>entries</th>\n",
       "      <th>start</th>\n",
       "      <th>stop</th>\n",
       "    </tr>\n",
       "    <tr>\n",
       "      <th>id</th>\n",
       "      <th></th>\n",
       "      <th></th>\n",
       "      <th></th>\n",
       "      <th></th>\n",
       "      <th></th>\n",
       "    </tr>\n",
       "  </thead>\n",
       "  <tbody>\n",
       "    <tr>\n",
       "      <th>809436509</th>\n",
       "      <td>Извещение о проведении открытого конкурса в эл...</td>\n",
       "      <td>обеспечение исполнения контракта</td>\n",
       "      <td>[(2, 5)]</td>\n",
       "      <td>1279</td>\n",
       "      <td>1343</td>\n",
       "    </tr>\n",
       "    <tr>\n",
       "      <th>854885310</th>\n",
       "      <td>ТРЕБОВАНИЯ К СОДЕРЖАНИЮ ЗАЯВКИ участника запро...</td>\n",
       "      <td>обеспечение исполнения контракта</td>\n",
       "      <td>[(0, 3)]</td>\n",
       "      <td>1252</td>\n",
       "      <td>1299</td>\n",
       "    </tr>\n",
       "    <tr>\n",
       "      <th>4382157</th>\n",
       "      <td>Извещение о проведении электронного аукциона д...</td>\n",
       "      <td>обеспечение исполнения контракта</td>\n",
       "      <td>[(3, 6)]</td>\n",
       "      <td>1297</td>\n",
       "      <td>1343</td>\n",
       "    </tr>\n",
       "    <tr>\n",
       "      <th>184555082</th>\n",
       "      <td>Извещение о проведении электронного аукциона д...</td>\n",
       "      <td>обеспечение исполнения контракта</td>\n",
       "      <td>[(2, 5)]</td>\n",
       "      <td>1304</td>\n",
       "      <td>1350</td>\n",
       "    </tr>\n",
       "    <tr>\n",
       "      <th>211645258</th>\n",
       "      <td>Извещение о проведении электронного аукциона д...</td>\n",
       "      <td>обеспечение исполнения контракта</td>\n",
       "      <td>[(2, 5)]</td>\n",
       "      <td>1302</td>\n",
       "      <td>1348</td>\n",
       "    </tr>\n",
       "  </tbody>\n",
       "</table>\n",
       "</div>"
      ],
      "text/plain": [
       "                                                        text  \\\n",
       "id                                                             \n",
       "809436509  Извещение о проведении открытого конкурса в эл...   \n",
       "854885310  ТРЕБОВАНИЯ К СОДЕРЖАНИЮ ЗАЯВКИ участника запро...   \n",
       "4382157    Извещение о проведении электронного аукциона д...   \n",
       "184555082  Извещение о проведении электронного аукциона д...   \n",
       "211645258  Извещение о проведении электронного аукциона д...   \n",
       "\n",
       "                                      label   entries  start  stop  \n",
       "id                                                                  \n",
       "809436509  обеспечение исполнения контракта  [(2, 5)]   1279  1343  \n",
       "854885310  обеспечение исполнения контракта  [(0, 3)]   1252  1299  \n",
       "4382157    обеспечение исполнения контракта  [(3, 6)]   1297  1343  \n",
       "184555082  обеспечение исполнения контракта  [(2, 5)]   1304  1350  \n",
       "211645258  обеспечение исполнения контракта  [(2, 5)]   1302  1348  "
      ]
     },
     "execution_count": 60,
     "metadata": {},
     "output_type": "execute_result"
    }
   ],
   "source": [
    "data.head()"
   ]
  },
  {
   "cell_type": "code",
   "execution_count": 61,
   "metadata": {},
   "outputs": [
    {
     "data": {
      "text/html": [
       "<div class=\"tex2jax_ignore\" style=\"white-space: pre-wrap\">Извещение о проведении открытого конкурса в электронной форме для закупки №0328300032822000806 Общая информация Номер извещения 0328300032822000806 Наименование объекта закупки Поставка продуктов питания Способ определения поставщика (подрядчика, исполнителя) Открытый конкурс в бль Порядок внесения денежных средств в качестве обеспечения заявки на участие в закупке, а также условия гарантии Обеспечение заявки на участие в закупке может предоставляться участником закупки в виде денежных средств или независимой гарантии, предусмотренной ст. 45 Федерального закона № 44-ФЗ. Выбор способа обеспечения осуществляется участником закупки самостоятельно. Срок действия независимой гарантии должен составлять не менее месяца с даты окончания срока подачи заявок. Обеспечение заявки на участие в закупке предоставляется в соответствии с ч. 5 ст. 44 Федерального закона № 44-ФЗ. Условия независимой гарантии в соответствии со ст. 45 Федерального закона № 44-ФЗ. Реквизиты счета в соответствии с п.16 ч. 1 ст. 42 Закона № 44-ФЗ &quot;Номер расчётного счёта&quot; 00000000000000000000 &quot;Номер лицевого счёта&quot; См. прилагаемые документы &quot;БИК&quot; 000000000 &quot;Наименование кредитной организации&quot; &quot;Номер корреспондентского счета&quot; Обеспечение исполнения контракта Требуется обеспечение исполнения контракта <span style=\"padding: 2px; border-radius: 4px; border: 1px solid #d1c4e9; background: #ede7f6\">Размер обеспечения исполнения контракта 6593.25 Российский рубль</span> Порядок обеспечения исполнения контракта, требования к обеспечению Исполнение контракта, гарантийные обязательства могут обеспечиваться предоставлением независимой гарантии, соответствующей требованиям ст. 45 Федерального закона № 44-ФЗ, или внесением денежных средств на указанный заказчиком счет, на котором в соответствии с законодательством Российской Федерации учитываются операции со средствами, поступающими заказчику. Способ обеспечения исполнения контракта, гарантийных обязательств, срок действия независимой гарантии определяются в соответствии с требованиями Федерального закона № 44-ФЗ участником закупки, с которым заключается контракт, самостоятельно. При этом срок действия независимой гарантии должен превышать предусмотренный контрактом срок исполнения обязательств, которые должны быть обеспечены такой независимой гарантией, не менее чем на один месяц, в том числе в случае его изменения в соответствии со ст. 95 Федерального закона № 44-ФЗ. Порядок предоставления и требования о Информация и документы, подтверждающие соответствие участников закупки дополнительным требованиям: 1) исполненный договор; 2) акт приемки оказанных услуг и (или) поставленных товаров, подтверждающий цену оказанных услуг и (или) поставленных товаров 4</div>"
      ],
      "text/plain": [
       "<IPython.core.display.HTML object>"
      ]
     },
     "metadata": {},
     "output_type": "display_data"
    },
    {
     "data": {
      "text/html": [
       "<div class=\"tex2jax_ignore\" style=\"white-space: pre-wrap\">ТРЕБОВАНИЯ К СОДЕРЖАНИЮ ЗАЯВКИ участника запроса котировок в электронной форме Заявка на участие в запросе котировок в электронной форме должна содержать следующие информацию и документы: 1) об участнике запроса котировок носят на банковский счет, открытый в банке, включенном в перечень, который утвержден распоряжением Правительства Российской Федерации от 13.07.2018 N 1451-р. Требования к банкам, договору специального счета, к порядку использования имеющегося у участника закупки банковского счета в качестве специального счета Правительство РФ установило в постановлении от 30.05.2018 №626. Независимая гарантия должна соответствовать требованиям статьи 45 Закона № 44-ФЗ Реквизиты счета, на котором в соответствии с законодательством Российской Федерации учитываются операции со средствами, поступающими заказчику: Наименование заказчика: Санкт-Петербургское государственное бюджетное учреждение здравоохранения «Городская поликлиника № 95» (СПб ГБУЗ ГП № 95) Реквизиты: ИНН 7817026947, КПП 781701001 Реквизиты банковского счета: Северо-Западное ГУ БАНКА РОССИИ//УФК по г.Санкт-Петербургу, г. Санкт-Петербург БИК 014030106, номер счета банка получателя 03224643400000007200, казначейский счет 40102810945370000005. Поставщик должен предоставить <span style=\"padding: 2px; border-radius: 4px; border: 1px solid #d1c4e9; background: #ede7f6\">обеспечение исполнения контракта в размере 10 %</span> от цены Контракта. В случае если обеспечение исполнения контракта предоставляется в виде передачи заказчику денежных средств, участник запроса котировок в электронной форме, с которым заключается контракт, перечисляет денежные средства на счет: СПб ГБУЗ ГП №95, ИНН 7817026947, КПП 781701001, Получатель платежа: Комитет финансов СПб ( СПб ГБУЗ ГП № 95, л/с 0531015) Реквизиты банковского счета: Северо-Западное ГУ БАНКА РОССИИ//УФК по г. Санкт-Петербургу, БИК 014030106, номер счета банка получателя 03224643400000007200, к/с 40102810945370000005 В поле 104 платежных документов указывается код бюджетной классификации, имеющий 20 знаков: «00000000000000003510». В платежном поручении в поле &quot;Назначение платежа&quot; указывается 510 (ВР) 0531015 Перечисление обеспечения контракта (предмет контракта и номер извещения об осуществлении закупки) НДС не обл. Денежные средства, внесенные в качестве обеспечения исполнения Контракта, в том числе части этих денежных средств в случае уменьшения размера обеспечения исполнения  Сведения, содержащиеся в котировочной заявке участника, не должны допускать двусмысленных толкований.</div>"
      ],
      "text/plain": [
       "<IPython.core.display.HTML object>"
      ]
     },
     "metadata": {},
     "output_type": "display_data"
    },
    {
     "data": {
      "text/html": [
       "<div class=\"tex2jax_ignore\" style=\"white-space: pre-wrap\">Извещение о проведении электронного аукциона для закупки №0345200005522000013 Общая информация Номер извещения 0345200005522000013 Наименование объекта закупки Поставка бумаги для офисной техники Способ определения поставщика (подрядчика, исполнителя) Электронный аукцион Наименование электронной Объект закупки Российский рубль Тип объекта закупки Товар Наименование товара, работы, услуги по ОКПД2, КТРУ Код позиции Характеристики товара, работы, услуги Единица измерения Количество(объем работы, услуги) Цена за единицу измерения Стоимость позиции Наименование характеристики Значение характеристики Единица измерения характеристики Бумага для офисной техники белая 17.12.14.129-00000025 Пачка 113 351.42 39710.46 Количество листов в пачке 500.0000 Штука Масса бумаги площадью 1м2 ≥ 80 и &lt; 90 Грамм Формат A4 Итого: 39710.46 Российский рубль Преимущества и требования к участникам Преимущества Преимущество в соответствии с ч. 3 ст. 30 Закона № 44-ФЗ Требования к участникам 1 Единые требования к участникам закупок в соответствии с ч. 1 ст. 31 Закона № 44-ФЗ 2 Требования к участникам закупок в соответствии с ч. 1.1 ст. 31 Закона № 44-ФЗ Ограничения Не установлены Обеспечение заявки Обеспечение заявок не требуется Обеспечение исполнения контракта Требуется обеспечение исполнения контракта <span style=\"padding: 2px; border-radius: 4px; border: 1px solid #d1c4e9; background: #ede7f6\">Размер обеспечения исполнения контракта 10.00%</span> Порядок обеспечения исполнения контракта, требования к обеспечению Участник закупки, с которым заключается контракт, может предоставить обеспечение исполнения контракта, гарантийных обязательств любым из двух способов: 1) внесение денежных средств на счет заказчика. Банковские реквизиты: Получатель: КОМИТЕТ ФИНАНСОВ ЛЕНИНГРАДСКОЙ ОБЛАСТИ (ГБУ ЛО «СББЖ Лужского района», л/с 20456У11900) Банк: ОТДЕЛЕНИЕ ЛЕНИНГРАДСКОЕ БАНКА РОССИИ //УФК ПО ЛЕНИНГРАДСКОЙ ОБЛАСТИ г. Санкт-Петербург р/счет 03224643410000004500 БИК 014106101 Кор.счет: 40102810745370000006 Платёжное поручение должно содержать: - КБК Заказчика 00000000000000000510, - в разделе назначение платежа указать наименование предмета контракта и ИКЗ. Факт внесения денежных средств на счет заказчика подтверждается платежным документом, на основании которого произведено перечисление средств; 2) предоставление независимой гарантии, соответствующей требованиям статьи 45 Закона № 44-ФЗ. Способ обеспечения исполнения контракта, гарантийных о Требования к содержанию, составу заявки на участие и инструкция по ее заполнению.docx Дополнительная информация и документы Документы не прикреплены</div>"
      ],
      "text/plain": [
       "<IPython.core.display.HTML object>"
      ]
     },
     "metadata": {},
     "output_type": "display_data"
    },
    {
     "data": {
      "text/html": [
       "<div class=\"tex2jax_ignore\" style=\"white-space: pre-wrap\">Извещение о проведении электронного аукциона для закупки №0174500001122003505 Общая информация Номер извещения 0174500001122003505 Наименование объекта закупки на поставку воды дистиллированной Способ определения поставщика (подрядчика, исполнителя) Электронный аукцион Наименование электронной площадки  гарантии Обеспечение заявки на участие в закупке может предоставляться участником закупки в виде денежных средств или независимой гарантии, предусмотренной статьей 45 Федерального закона 44-ФЗ. Выбор способа обеспечения осуществляется участником закупки самостоятельно. Срок действия независимой гарантии должен составлять не менее месяца с даты окончания срока подачи заявок. Реквизиты счета для перечисления денежных средств в случае, предусмотренном ч.13 ст.44 44-ФЗ, соответствуют платежным реквизитам для перечисления денежных средств при уклонении участника закупки от заключения контракта. Реквизиты счета в соответствии с п.16 ч. 1 ст. 42 Закона № 44-ФЗ &quot;Номер расчётного счёта&quot; 03224643670000007400 &quot;Номер лицевого счёта&quot; 20746Ю13920 &quot;БИК&quot; 016711001 &quot;Наименование кредитной организации&quot; ОТДЕЛЕНИЕ СЕВАСТОПОЛЬ БАНКА РОССИИ//УФК по г. Севастополю г. Севастополь &quot;Номер корреспондентского счета&quot; 40102810045370000056 Обеспечение исполнения контракта Требуется обеспечение исполнения контракта <span style=\"padding: 2px; border-radius: 4px; border: 1px solid #d1c4e9; background: #ede7f6\">Размер обеспечения исполнения контракта 10.00%</span> Порядок обеспечения исполнения контракта, требования к обеспечению Исполнение контракта может обеспечиваться предоставлением независимой гарантии, соответствующей требованиям статьи 45 Федерального закона 44-ФЗ, или внесением денежных средств на указанный заказчиком счет, на котором в соответствии с законодательством Российской Федерации учитываются операции со средствами, поступающими заказчику. Способ обеспечения исполнения контракта, срок действия независимой гарантии определяются участником закупки, с которым заключается контракт, самостоятельно. При этом срок действия независимой гарантии должен превышать предусмотренный контрактом срок исполнения обязательств, которые должны быть обеспечены такой независимой гарантией, не менее чем на один месяц, в том числе в случае его изменения в соответствии со статьей 95 Федерального закона 44-ФЗ. Платежные реквизиты &quot;Номер расчётного счёта&quot; 03224643670000007400 &quot;Номер лицевого счёта&quot; 20746Ю13920 &quot;БИК&quot; 016711001 &quot;Наименование кредитной орга Платежные реквизиты &quot;Номер расчётного счёта&quot; 03224643670000007400 &quot;Номер лицевого счёта&quot; 20746Ю13920 &quot;БИК&quot; 016711001 &quot;Наименование кредитной организации&quot; ОТДЕЛЕНИЕ СЕВАСТОПОЛЬ БАНКА РОССИИ//УФК по г. Севастополю г. Севастополь &quot;Номер корреспондентского счета&quot; 40102810045370000056 Требования к</div>"
      ],
      "text/plain": [
       "<IPython.core.display.HTML object>"
      ]
     },
     "metadata": {},
     "output_type": "display_data"
    },
    {
     "data": {
      "text/html": [
       "<div class=\"tex2jax_ignore\" style=\"white-space: pre-wrap\">Извещение о проведении электронного аукциона для закупки №0318100007022000091 Общая информация Номер извещения 0318100007022000091 Наименование объекта закупки Поставка расходных материалов Способ определения поставщика (подрядчика, исполнителя) Электронный аукцион Наименование электронной площадки в зованием электронной площадки способ обеспечения заявки путем указания реквизитов специального счета или указания номера реестровой записи из реестра независимых гарантий, размещенного в единой информационной системе в сфере закупок. Получатель: УФК по Краснодарскому краю (Краснодарский университет МВД России (КрУ МВД России) л/с 05181854470), Банк получателя: ЮЖНОЕ ГУ БАНКА РОССИИ//УФК по Краснодарскому краю г. Краснодар, БИК 010349101, ИНН 2311092752, КПП 231101001, ОКПО 08726067, ОКОНХ 92110, ОКТМО 03701000001, ЕКС (единый казначейский счет) 40102810945370000010, казначейский счет 03212643000000011800, В ПЛАТЕЖНОМ ПОРУЧЕНИИ В ПОЛЕ 22 ОБЯЗАТЕЛЬНО УКАЗЫВАЕТСЯ КОД 0002 Реквизиты счета в соответствии с п.16 ч. 1 ст. 42 Закона № 44-ФЗ &quot;Номер расчётного счёта&quot; 00000000000000000000 &quot;Номер лицевого счёта&quot; См. прилагаемые документы &quot;БИК&quot; 000000000 &quot;Наименование кредитной организации&quot; &quot;Номер корреспондентского счета&quot; Обеспечение исполнения контракта Требуется обеспечение исполнения контракта <span style=\"padding: 2px; border-radius: 4px; border: 1px solid #d1c4e9; background: #ede7f6\">Размер обеспечения исполнения контракта 10.00%</span> Порядок обеспечения исполнения контракта, требования к обеспечению Контракт заключается после предоставления участником закупки, с которым заключается контракт, обеспечения исполнения контракта в соответствии с требованиями статьи 96 Федерального закона от 05.04.2013 № 44-ФЗ «О контрактной системе в сфере закупок товаров, работ, услуг для обеспечения государственных и муниципальных нужд». Исполнение контракта обеспечивается предоставлением независимой гарантии, соответствующей требованиям статьи 45 Федерального закона от 05.04.2013 № 44-ФЗ «О контрактной системе в сфере закупок товаров, работ, услуг для обеспечения государственных и муниципальных нужд», или внесением денежных средств на указанный заказчиком счет с указанием назначения платежа «Обеспечение исполнения контракта, № закупки или ИКЗ». Способ обеспечения исполнения контракта определяется участником закупки, с которым заключается контракт, самостоятельно. Получатель: УФК по Краснодарскому краю (Краснодарский университет МВД  Обеспечение гарантийных обязательств Обеспечение гарантийных обязательств не требуется Дополнительная информация Информация отсутствует Информация о банковском и (или) казначейском сопровождении контракта Банковское или казначейское сопровождение контракта не требуется Перечень прикрепленных документов</div>"
      ],
      "text/plain": [
       "<IPython.core.display.HTML object>"
      ]
     },
     "metadata": {},
     "output_type": "display_data"
    }
   ],
   "source": [
    "multyentry = []\n",
    "for id, _ in data.iloc[:5].iterrows():\n",
    "\n",
    "    lb = _['label']\n",
    "    txt = _['text']\n",
    "    start = _['start']\n",
    "    stop = _['stop']\n",
    "\n",
    "    nerpack = nerpa.NERpack()\n",
    "    nerpack.add_marks(matches=[(start, stop)], text=txt)\n",
    "    nerpack.show_full(txt)"
   ]
  },
  {
   "cell_type": "code",
   "execution_count": null,
   "metadata": {},
   "outputs": [],
   "source": [
    "# from natasha import (\n",
    "#     Segmenter,\n",
    "#     MorphVocab,\n",
    "\n",
    "#     NewsEmbedding,\n",
    "#     NewsMorphTagger,\n",
    "#     NewsSyntaxParser,\n",
    "#     MoneyExtractor,\n",
    "#     Doc\n",
    "\n",
    "# )\n",
    "\n",
    "# from razdel import tokenize\n",
    "# from razdel import sentenize\n",
    "\n",
    "# tokens = list(tokenize(data[0]['text']))\n",
    "# for _ in tokens:\n",
    "#     print(i)\n",
    "\n",
    "\n",
    "# segmenter = Segmenter()\n",
    "# morph_vocab = MorphVocab()\n",
    "\n",
    "# emb = NewsEmbedding()\n",
    "# morph_tagger = NewsMorphTagger(emb)\n",
    "# syntax_parser = NewsSyntaxParser(emb)\n",
    "\n",
    "\n",
    "# text = text[spans[0].start:spans[-1].stop]\n",
    "# text = 'Способ обеспечения исполнения контракта, гарантийных обязательств'\n",
    "# doc = Doc(text)\n",
    "\n",
    "# doc.segment(segmenter)\n",
    "# doc.tag_morph(morph_tagger)\n",
    "# doc.parse_syntax(syntax_parser)\n",
    "\n",
    "# sent = doc.sents[0]\n",
    "# # sent.morph.print()\n",
    "\n",
    "\n",
    "# sent.syntax.print()"
   ]
  }
 ],
 "metadata": {
  "kernelspec": {
   "display_name": "base",
   "language": "python",
   "name": "python3"
  },
  "language_info": {
   "codemirror_mode": {
    "name": "ipython",
    "version": 3
   },
   "file_extension": ".py",
   "mimetype": "text/x-python",
   "name": "python",
   "nbconvert_exporter": "python",
   "pygments_lexer": "ipython3",
   "version": "3.10.9"
  },
  "orig_nbformat": 4
 },
 "nbformat": 4,
 "nbformat_minor": 2
}
